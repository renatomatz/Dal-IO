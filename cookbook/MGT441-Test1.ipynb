{
 "cells": [
  {
   "cell_type": "code",
   "execution_count": 37,
   "metadata": {},
   "outputs": [],
   "source": [
    "import warnings, os\n",
    "warnings.filterwarnings(\"ignore\")\n",
    "warnings.simplefilter(\"ignore\")\n",
    "\n",
    "os.environ[\"PYTHONWARNINGS\"] = \"ignore\" # Also affect subprocesses"
   ]
  },
  {
   "cell_type": "code",
   "execution_count": 38,
   "metadata": {},
   "outputs": [],
   "source": [
    "import sys\n",
    "sys.path.append(\"..\")"
   ]
  },
  {
   "cell_type": "markdown",
   "metadata": {},
   "source": [
    "## Import Base Packages"
   ]
  },
  {
   "cell_type": "code",
   "execution_count": 39,
   "metadata": {},
   "outputs": [],
   "source": [
    "import numpy as np\n",
    "import pandas as pd\n",
    "\n",
    "%matplotlib inline\n",
    "import matplotlib as plt\n",
    "\n",
    "from scipy.stats import skew, kurtosis"
   ]
  },
  {
   "cell_type": "markdown",
   "metadata": {},
   "source": [
    "## Import Dal-IO Pieces"
   ]
  },
  {
   "cell_type": "code",
   "execution_count": 40,
   "metadata": {
    "scrolled": false
   },
   "outputs": [],
   "source": [
    "from dalio.base.memory import LazyRunner, LocalMemory\n",
    "\n",
    "from dalio.external import (\n",
    "    PandasInFile,\n",
    "    YahooDR, \n",
    "    PyPlotGraph, \n",
    "    PyPfOptGraph,\n",
    "    PySubplotGraph\n",
    ")\n",
    "\n",
    "from dalio.translator import (\n",
    "    YahooStockTranslator,\n",
    "    StockStreamFileTranslator,\n",
    ")\n",
    "    \n",
    "from dalio.pipe import (\n",
    "    Pipe,\n",
    "    PipeLine,\n",
    "    DateSelect,\n",
    "    ColSelect, \n",
    "    Index,\n",
    "    Change,\n",
    "    StockReturns, \n",
    "    Period, \n",
    "    Custom, \n",
    "    Rolling,\n",
    "    CovShrink, \n",
    "    ExpectedReturns,\n",
    "    PandasLinearModel,\n",
    "    OptimumWeights,\n",
    ")\n",
    "\n",
    "from dalio.model import (\n",
    "    MakeCriticalLine, \n",
    "    MakeEfficientFrontier, \n",
    "    OptimumPortfolio,\n",
    "    XYLinearModel,\n",
    ")\n",
    "\n",
    "from dalio.application import (\n",
    "    Grapher,\n",
    "    PandasTSGrapher,\n",
    "    PandasMultiGrapher,\n",
    "    LMGrapher,\n",
    ")\n",
    "\n",
    "from dalio.ops import risk_metrics"
   ]
  },
  {
   "cell_type": "markdown",
   "metadata": {},
   "source": [
    "## Base Setup"
   ]
  },
  {
   "cell_type": "code",
   "execution_count": 41,
   "metadata": {},
   "outputs": [],
   "source": [
    "yahoo_in = YahooStockTranslator()(YahooDR())\n",
    "yahoo = ColSelect(columns=\"close\")(yahoo_in)"
   ]
  },
  {
   "cell_type": "code",
   "execution_count": 42,
   "metadata": {},
   "outputs": [],
   "source": [
    "stocks = StockStreamFileTranslator()(PandasInFile(\"../tests/sample_stocks.xlsx\"))"
   ]
  },
  {
   "cell_type": "code",
   "execution_count": 43,
   "metadata": {},
   "outputs": [],
   "source": [
    "raw_in = Pipe()(stocks)"
   ]
  },
  {
   "cell_type": "code",
   "execution_count": 44,
   "metadata": {},
   "outputs": [],
   "source": [
    "time = DateSelect()\n",
    "time.set_start(\"1999-12-31\")\n",
    "time.set_end(\"2019-12-31\")\n",
    "\n",
    "mem = LazyRunner(LocalMemory, buff=4, update=True)(raw_in) # 11.09 sec\n",
    "# mem = raw_in # 28.14 sec\n",
    "price = PipeLine(time)(mem)"
   ]
  },
  {
   "cell_type": "code",
   "execution_count": 45,
   "metadata": {},
   "outputs": [],
   "source": [
    "simple_rets = price + Change(strategy=\"pct_change\")\n",
    "\n",
    "# ticker = [\"WMT\", \"MSFT\", \"AMZN\", \"HD\"]\n",
    "# ticker = [\"AMZN\", \"HD\", \"NVDA\", \"RL\"]\n",
    "ticker = [\"NVDA\", \"RL\", \"GPS\", \"WMT\"]\n",
    "# ticker = [\"GPS\", \"MSFT\", \"AMZN\", \"NVDA\"]"
   ]
  },
  {
   "cell_type": "code",
   "execution_count": 46,
   "metadata": {},
   "outputs": [
    {
     "data": {
      "text/html": [
       "<div>\n",
       "<style scoped>\n",
       "    .dataframe tbody tr th:only-of-type {\n",
       "        vertical-align: middle;\n",
       "    }\n",
       "\n",
       "    .dataframe tbody tr th {\n",
       "        vertical-align: top;\n",
       "    }\n",
       "\n",
       "    .dataframe thead tr th {\n",
       "        text-align: left;\n",
       "    }\n",
       "\n",
       "    .dataframe thead tr:last-of-type th {\n",
       "        text-align: right;\n",
       "    }\n",
       "</style>\n",
       "<table border=\"1\" class=\"dataframe\">\n",
       "  <thead>\n",
       "    <tr>\n",
       "      <th>attribute</th>\n",
       "      <th colspan=\"4\" halign=\"left\">price</th>\n",
       "    </tr>\n",
       "    <tr>\n",
       "      <th>ticker</th>\n",
       "      <th>WMT</th>\n",
       "      <th>NVDA</th>\n",
       "      <th>RL</th>\n",
       "      <th>GPS</th>\n",
       "    </tr>\n",
       "    <tr>\n",
       "      <th>date</th>\n",
       "      <th></th>\n",
       "      <th></th>\n",
       "      <th></th>\n",
       "      <th></th>\n",
       "    </tr>\n",
       "  </thead>\n",
       "  <tbody>\n",
       "    <tr>\n",
       "      <th>1999-12-31</th>\n",
       "      <td>69.125000</td>\n",
       "      <td>3.911458</td>\n",
       "      <td>17.062500</td>\n",
       "      <td>46.000000</td>\n",
       "    </tr>\n",
       "    <tr>\n",
       "      <th>2000-01-03</th>\n",
       "      <td>66.812500</td>\n",
       "      <td>3.901042</td>\n",
       "      <td>17.437500</td>\n",
       "      <td>43.125000</td>\n",
       "    </tr>\n",
       "    <tr>\n",
       "      <th>2000-01-04</th>\n",
       "      <td>64.312500</td>\n",
       "      <td>3.796875</td>\n",
       "      <td>16.750000</td>\n",
       "      <td>41.562500</td>\n",
       "    </tr>\n",
       "    <tr>\n",
       "      <th>2000-01-05</th>\n",
       "      <td>63.000000</td>\n",
       "      <td>3.671875</td>\n",
       "      <td>17.062500</td>\n",
       "      <td>39.750000</td>\n",
       "    </tr>\n",
       "    <tr>\n",
       "      <th>2000-01-06</th>\n",
       "      <td>63.687500</td>\n",
       "      <td>3.432292</td>\n",
       "      <td>17.062500</td>\n",
       "      <td>44.437500</td>\n",
       "    </tr>\n",
       "    <tr>\n",
       "      <th>...</th>\n",
       "      <td>...</td>\n",
       "      <td>...</td>\n",
       "      <td>...</td>\n",
       "      <td>...</td>\n",
       "    </tr>\n",
       "    <tr>\n",
       "      <th>2019-12-24</th>\n",
       "      <td>119.510002</td>\n",
       "      <td>238.619995</td>\n",
       "      <td>118.339996</td>\n",
       "      <td>17.639999</td>\n",
       "    </tr>\n",
       "    <tr>\n",
       "      <th>2019-12-26</th>\n",
       "      <td>119.519997</td>\n",
       "      <td>239.190002</td>\n",
       "      <td>118.400002</td>\n",
       "      <td>17.930000</td>\n",
       "    </tr>\n",
       "    <tr>\n",
       "      <th>2019-12-27</th>\n",
       "      <td>119.589996</td>\n",
       "      <td>236.869995</td>\n",
       "      <td>117.410004</td>\n",
       "      <td>17.830000</td>\n",
       "    </tr>\n",
       "    <tr>\n",
       "      <th>2019-12-30</th>\n",
       "      <td>119.400002</td>\n",
       "      <td>232.320007</td>\n",
       "      <td>116.580002</td>\n",
       "      <td>17.820000</td>\n",
       "    </tr>\n",
       "    <tr>\n",
       "      <th>2019-12-31</th>\n",
       "      <td>118.839996</td>\n",
       "      <td>235.300003</td>\n",
       "      <td>117.220001</td>\n",
       "      <td>17.680000</td>\n",
       "    </tr>\n",
       "  </tbody>\n",
       "</table>\n",
       "<p>5032 rows × 4 columns</p>\n",
       "</div>"
      ],
      "text/plain": [
       "attribute        price                                   \n",
       "ticker             WMT        NVDA          RL        GPS\n",
       "date                                                     \n",
       "1999-12-31   69.125000    3.911458   17.062500  46.000000\n",
       "2000-01-03   66.812500    3.901042   17.437500  43.125000\n",
       "2000-01-04   64.312500    3.796875   16.750000  41.562500\n",
       "2000-01-05   63.000000    3.671875   17.062500  39.750000\n",
       "2000-01-06   63.687500    3.432292   17.062500  44.437500\n",
       "...                ...         ...         ...        ...\n",
       "2019-12-24  119.510002  238.619995  118.339996  17.639999\n",
       "2019-12-26  119.519997  239.190002  118.400002  17.930000\n",
       "2019-12-27  119.589996  236.869995  117.410004  17.830000\n",
       "2019-12-30  119.400002  232.320007  116.580002  17.820000\n",
       "2019-12-31  118.839996  235.300003  117.220001  17.680000\n",
       "\n",
       "[5032 rows x 4 columns]"
      ]
     },
     "execution_count": 46,
     "metadata": {},
     "output_type": "execute_result"
    }
   ],
   "source": [
    "price.run(ticker=ticker)"
   ]
  },
  {
   "cell_type": "markdown",
   "metadata": {},
   "source": [
    "## Part A"
   ]
  },
  {
   "cell_type": "markdown",
   "metadata": {},
   "source": [
    "### Setup"
   ]
  },
  {
   "cell_type": "code",
   "execution_count": 47,
   "metadata": {
    "scrolled": true
   },
   "outputs": [],
   "source": [
    "daily_var = simple_rets + Custom(risk_metrics, 0.94)\n",
    "daily_vol = daily_var + Custom(lambda x: np.sqrt(x))"
   ]
  },
  {
   "cell_type": "code",
   "execution_count": 48,
   "metadata": {},
   "outputs": [
    {
     "data": {
      "text/html": [
       "<div>\n",
       "<style scoped>\n",
       "    .dataframe tbody tr th:only-of-type {\n",
       "        vertical-align: middle;\n",
       "    }\n",
       "\n",
       "    .dataframe tbody tr th {\n",
       "        vertical-align: top;\n",
       "    }\n",
       "\n",
       "    .dataframe thead tr th {\n",
       "        text-align: left;\n",
       "    }\n",
       "\n",
       "    .dataframe thead tr:last-of-type th {\n",
       "        text-align: right;\n",
       "    }\n",
       "</style>\n",
       "<table border=\"1\" class=\"dataframe\">\n",
       "  <thead>\n",
       "    <tr>\n",
       "      <th>attribute</th>\n",
       "      <th colspan=\"4\" halign=\"left\">price</th>\n",
       "    </tr>\n",
       "    <tr>\n",
       "      <th>ticker</th>\n",
       "      <th>WMT</th>\n",
       "      <th>NVDA</th>\n",
       "      <th>RL</th>\n",
       "      <th>GPS</th>\n",
       "    </tr>\n",
       "    <tr>\n",
       "      <th>date</th>\n",
       "      <th></th>\n",
       "      <th></th>\n",
       "      <th></th>\n",
       "      <th></th>\n",
       "    </tr>\n",
       "  </thead>\n",
       "  <tbody>\n",
       "    <tr>\n",
       "      <th>1999-12-31</th>\n",
       "      <td>0.000000</td>\n",
       "      <td>0.000000</td>\n",
       "      <td>0.000000</td>\n",
       "      <td>0.000000</td>\n",
       "    </tr>\n",
       "    <tr>\n",
       "      <th>2000-01-03</th>\n",
       "      <td>0.033454</td>\n",
       "      <td>0.002663</td>\n",
       "      <td>0.021978</td>\n",
       "      <td>0.062500</td>\n",
       "    </tr>\n",
       "    <tr>\n",
       "      <th>2000-01-04</th>\n",
       "      <td>0.033454</td>\n",
       "      <td>0.002663</td>\n",
       "      <td>0.021978</td>\n",
       "      <td>0.062500</td>\n",
       "    </tr>\n",
       "    <tr>\n",
       "      <th>2000-01-05</th>\n",
       "      <td>0.033705</td>\n",
       "      <td>0.007032</td>\n",
       "      <td>0.023395</td>\n",
       "      <td>0.061242</td>\n",
       "    </tr>\n",
       "    <tr>\n",
       "      <th>2000-01-06</th>\n",
       "      <td>0.033058</td>\n",
       "      <td>0.010560</td>\n",
       "      <td>0.023138</td>\n",
       "      <td>0.060330</td>\n",
       "    </tr>\n",
       "    <tr>\n",
       "      <th>...</th>\n",
       "      <td>...</td>\n",
       "      <td>...</td>\n",
       "      <td>...</td>\n",
       "      <td>...</td>\n",
       "    </tr>\n",
       "    <tr>\n",
       "      <th>2019-12-24</th>\n",
       "      <td>0.006404</td>\n",
       "      <td>0.017605</td>\n",
       "      <td>0.021804</td>\n",
       "      <td>0.023380</td>\n",
       "    </tr>\n",
       "    <tr>\n",
       "      <th>2019-12-26</th>\n",
       "      <td>0.006287</td>\n",
       "      <td>0.017070</td>\n",
       "      <td>0.021171</td>\n",
       "      <td>0.022670</td>\n",
       "    </tr>\n",
       "    <tr>\n",
       "      <th>2019-12-27</th>\n",
       "      <td>0.006096</td>\n",
       "      <td>0.016560</td>\n",
       "      <td>0.020526</td>\n",
       "      <td>0.022345</td>\n",
       "    </tr>\n",
       "    <tr>\n",
       "      <th>2019-12-30</th>\n",
       "      <td>0.005912</td>\n",
       "      <td>0.016231</td>\n",
       "      <td>0.020006</td>\n",
       "      <td>0.021707</td>\n",
       "    </tr>\n",
       "    <tr>\n",
       "      <th>2019-12-31</th>\n",
       "      <td>0.005745</td>\n",
       "      <td>0.016424</td>\n",
       "      <td>0.019474</td>\n",
       "      <td>0.021046</td>\n",
       "    </tr>\n",
       "  </tbody>\n",
       "</table>\n",
       "<p>5032 rows × 4 columns</p>\n",
       "</div>"
      ],
      "text/plain": [
       "attribute      price                              \n",
       "ticker           WMT      NVDA        RL       GPS\n",
       "date                                              \n",
       "1999-12-31  0.000000  0.000000  0.000000  0.000000\n",
       "2000-01-03  0.033454  0.002663  0.021978  0.062500\n",
       "2000-01-04  0.033454  0.002663  0.021978  0.062500\n",
       "2000-01-05  0.033705  0.007032  0.023395  0.061242\n",
       "2000-01-06  0.033058  0.010560  0.023138  0.060330\n",
       "...              ...       ...       ...       ...\n",
       "2019-12-24  0.006404  0.017605  0.021804  0.023380\n",
       "2019-12-26  0.006287  0.017070  0.021171  0.022670\n",
       "2019-12-27  0.006096  0.016560  0.020526  0.022345\n",
       "2019-12-30  0.005912  0.016231  0.020006  0.021707\n",
       "2019-12-31  0.005745  0.016424  0.019474  0.021046\n",
       "\n",
       "[5032 rows x 4 columns]"
      ]
     },
     "execution_count": 48,
     "metadata": {},
     "output_type": "execute_result"
    }
   ],
   "source": [
    "daily_vol.run(ticker=ticker)"
   ]
  },
  {
   "cell_type": "code",
   "execution_count": 49,
   "metadata": {},
   "outputs": [],
   "source": [
    "ret_avg = simple_rets + Custom(np.mean)\n",
    "ret_sd = simple_rets + Custom(np.std)\n",
    "ret_skew = simple_rets + Custom(skew)\n",
    "ret_kurt = simple_rets + Custom(kurtosis)"
   ]
  },
  {
   "cell_type": "code",
   "execution_count": 50,
   "metadata": {},
   "outputs": [
    {
     "data": {
      "text/plain": [
       "attribute  ticker\n",
       "price      WMT       0.000218\n",
       "           NVDA      0.001541\n",
       "           RL        0.000658\n",
       "           GPS       0.000132\n",
       "dtype: float64"
      ]
     },
     "execution_count": 50,
     "metadata": {},
     "output_type": "execute_result"
    }
   ],
   "source": [
    "ret_avg.run(ticker=ticker)"
   ]
  },
  {
   "cell_type": "code",
   "execution_count": 51,
   "metadata": {},
   "outputs": [
    {
     "data": {
      "image/png": "[encoded data removed]",
      "text/plain": [
       "<Figure size 1152x576 with 4 Axes>"
      ]
     },
     "metadata": {
      "needs_background": "light"
     },
     "output_type": "display_data"
    }
   ],
   "source": [
    "summary_grapher = PandasMultiGrapher(2, 2)\\\n",
    "    .set_input((0, 0), price)\\\n",
    "        .set_piece((0, 0), \"line\", x_index=True, y=\"price\", lw=0.5)\\\n",
    "    .set_input((0, 1), simple_rets)\\\n",
    "        .set_piece((0, 1), \"line\", x_index=True, y=\"price\", lw=0.3)\\\n",
    "    .set_input((1, 0), daily_vol)\\\n",
    "        .set_piece((1, 0), \"line\", x_index=True, y=\"price\", lw=0.5)\\\n",
    "    .set_input((1, 1), simple_rets)\\\n",
    "        .set_piece((1, 1), \"histogram\", x=\"price\", bins=30)\\\n",
    "    .set_output(\"data_out\", PySubplotGraph(2, 2, figsize=(16, 8)))\n",
    "\n",
    "fig = summary_grapher.run(ticker=\"WMT\")"
   ]
  },
  {
   "cell_type": "markdown",
   "metadata": {},
   "source": [
    "## Part B"
   ]
  },
  {
   "cell_type": "markdown",
   "metadata": {},
   "source": [
    "### Setup"
   ]
  },
  {
   "cell_type": "code",
   "execution_count": 52,
   "metadata": {},
   "outputs": [],
   "source": [
    "p = price.run(ticker=ticker)"
   ]
  },
  {
   "cell_type": "code",
   "execution_count": 53,
   "metadata": {},
   "outputs": [
    {
     "data": {
      "text/html": [
       "<div>\n",
       "<style scoped>\n",
       "    .dataframe tbody tr th:only-of-type {\n",
       "        vertical-align: middle;\n",
       "    }\n",
       "\n",
       "    .dataframe tbody tr th {\n",
       "        vertical-align: top;\n",
       "    }\n",
       "\n",
       "    .dataframe thead tr th {\n",
       "        text-align: left;\n",
       "    }\n",
       "\n",
       "    .dataframe thead tr:last-of-type th {\n",
       "        text-align: right;\n",
       "    }\n",
       "</style>\n",
       "<table border=\"1\" class=\"dataframe\">\n",
       "  <thead>\n",
       "    <tr>\n",
       "      <th>attribute</th>\n",
       "      <th colspan=\"4\" halign=\"left\">price</th>\n",
       "    </tr>\n",
       "    <tr>\n",
       "      <th>ticker</th>\n",
       "      <th>WMT</th>\n",
       "      <th>NVDA</th>\n",
       "      <th>RL</th>\n",
       "      <th>GPS</th>\n",
       "    </tr>\n",
       "    <tr>\n",
       "      <th>date</th>\n",
       "      <th></th>\n",
       "      <th></th>\n",
       "      <th></th>\n",
       "      <th></th>\n",
       "    </tr>\n",
       "  </thead>\n",
       "  <tbody>\n",
       "    <tr>\n",
       "      <th>1999-12-31</th>\n",
       "      <td>69.125000</td>\n",
       "      <td>3.911458</td>\n",
       "      <td>17.062500</td>\n",
       "      <td>46.000000</td>\n",
       "    </tr>\n",
       "    <tr>\n",
       "      <th>2000-12-31</th>\n",
       "      <td>53.125000</td>\n",
       "      <td>5.460938</td>\n",
       "      <td>22.312500</td>\n",
       "      <td>25.500000</td>\n",
       "    </tr>\n",
       "    <tr>\n",
       "      <th>2001-12-31</th>\n",
       "      <td>57.549999</td>\n",
       "      <td>22.299999</td>\n",
       "      <td>26.760000</td>\n",
       "      <td>13.940000</td>\n",
       "    </tr>\n",
       "    <tr>\n",
       "      <th>2002-12-31</th>\n",
       "      <td>50.509998</td>\n",
       "      <td>3.836667</td>\n",
       "      <td>21.760000</td>\n",
       "      <td>15.520000</td>\n",
       "    </tr>\n",
       "    <tr>\n",
       "      <th>2003-12-31</th>\n",
       "      <td>53.049999</td>\n",
       "      <td>7.733333</td>\n",
       "      <td>28.799999</td>\n",
       "      <td>23.209999</td>\n",
       "    </tr>\n",
       "    <tr>\n",
       "      <th>2004-12-31</th>\n",
       "      <td>52.820000</td>\n",
       "      <td>7.853333</td>\n",
       "      <td>42.599998</td>\n",
       "      <td>21.120001</td>\n",
       "    </tr>\n",
       "    <tr>\n",
       "      <th>2005-12-31</th>\n",
       "      <td>46.799999</td>\n",
       "      <td>12.186666</td>\n",
       "      <td>56.139999</td>\n",
       "      <td>17.639999</td>\n",
       "    </tr>\n",
       "    <tr>\n",
       "      <th>2006-12-31</th>\n",
       "      <td>46.180000</td>\n",
       "      <td>24.673334</td>\n",
       "      <td>77.660004</td>\n",
       "      <td>19.500000</td>\n",
       "    </tr>\n",
       "    <tr>\n",
       "      <th>2007-12-31</th>\n",
       "      <td>47.529999</td>\n",
       "      <td>34.020000</td>\n",
       "      <td>61.790001</td>\n",
       "      <td>21.280001</td>\n",
       "    </tr>\n",
       "    <tr>\n",
       "      <th>2008-12-31</th>\n",
       "      <td>56.060001</td>\n",
       "      <td>8.070000</td>\n",
       "      <td>45.410000</td>\n",
       "      <td>13.390000</td>\n",
       "    </tr>\n",
       "    <tr>\n",
       "      <th>2009-12-31</th>\n",
       "      <td>53.450001</td>\n",
       "      <td>18.680000</td>\n",
       "      <td>80.980003</td>\n",
       "      <td>20.950001</td>\n",
       "    </tr>\n",
       "    <tr>\n",
       "      <th>2010-12-31</th>\n",
       "      <td>53.930000</td>\n",
       "      <td>15.400000</td>\n",
       "      <td>110.919998</td>\n",
       "      <td>22.139999</td>\n",
       "    </tr>\n",
       "    <tr>\n",
       "      <th>2011-12-31</th>\n",
       "      <td>59.759998</td>\n",
       "      <td>13.860000</td>\n",
       "      <td>138.080002</td>\n",
       "      <td>18.549999</td>\n",
       "    </tr>\n",
       "    <tr>\n",
       "      <th>2012-12-31</th>\n",
       "      <td>68.230003</td>\n",
       "      <td>12.260000</td>\n",
       "      <td>149.919998</td>\n",
       "      <td>31.040001</td>\n",
       "    </tr>\n",
       "    <tr>\n",
       "      <th>2013-12-31</th>\n",
       "      <td>78.690002</td>\n",
       "      <td>16.020000</td>\n",
       "      <td>176.570007</td>\n",
       "      <td>39.080002</td>\n",
       "    </tr>\n",
       "    <tr>\n",
       "      <th>2014-12-31</th>\n",
       "      <td>85.879997</td>\n",
       "      <td>20.049999</td>\n",
       "      <td>185.160004</td>\n",
       "      <td>42.110001</td>\n",
       "    </tr>\n",
       "    <tr>\n",
       "      <th>2015-12-31</th>\n",
       "      <td>61.299999</td>\n",
       "      <td>32.959999</td>\n",
       "      <td>111.480003</td>\n",
       "      <td>24.700001</td>\n",
       "    </tr>\n",
       "    <tr>\n",
       "      <th>2016-12-31</th>\n",
       "      <td>69.120003</td>\n",
       "      <td>106.739998</td>\n",
       "      <td>90.320000</td>\n",
       "      <td>22.440001</td>\n",
       "    </tr>\n",
       "    <tr>\n",
       "      <th>2017-12-31</th>\n",
       "      <td>98.750000</td>\n",
       "      <td>193.500000</td>\n",
       "      <td>103.690002</td>\n",
       "      <td>34.060001</td>\n",
       "    </tr>\n",
       "    <tr>\n",
       "      <th>2018-12-31</th>\n",
       "      <td>93.150002</td>\n",
       "      <td>133.500000</td>\n",
       "      <td>103.459999</td>\n",
       "      <td>25.760000</td>\n",
       "    </tr>\n",
       "    <tr>\n",
       "      <th>2019-12-31</th>\n",
       "      <td>118.839996</td>\n",
       "      <td>235.300003</td>\n",
       "      <td>117.220001</td>\n",
       "      <td>17.680000</td>\n",
       "    </tr>\n",
       "  </tbody>\n",
       "</table>\n",
       "</div>"
      ],
      "text/plain": [
       "attribute        price                                   \n",
       "ticker             WMT        NVDA          RL        GPS\n",
       "date                                                     \n",
       "1999-12-31   69.125000    3.911458   17.062500  46.000000\n",
       "2000-12-31   53.125000    5.460938   22.312500  25.500000\n",
       "2001-12-31   57.549999   22.299999   26.760000  13.940000\n",
       "2002-12-31   50.509998    3.836667   21.760000  15.520000\n",
       "2003-12-31   53.049999    7.733333   28.799999  23.209999\n",
       "2004-12-31   52.820000    7.853333   42.599998  21.120001\n",
       "2005-12-31   46.799999   12.186666   56.139999  17.639999\n",
       "2006-12-31   46.180000   24.673334   77.660004  19.500000\n",
       "2007-12-31   47.529999   34.020000   61.790001  21.280001\n",
       "2008-12-31   56.060001    8.070000   45.410000  13.390000\n",
       "2009-12-31   53.450001   18.680000   80.980003  20.950001\n",
       "2010-12-31   53.930000   15.400000  110.919998  22.139999\n",
       "2011-12-31   59.759998   13.860000  138.080002  18.549999\n",
       "2012-12-31   68.230003   12.260000  149.919998  31.040001\n",
       "2013-12-31   78.690002   16.020000  176.570007  39.080002\n",
       "2014-12-31   85.879997   20.049999  185.160004  42.110001\n",
       "2015-12-31   61.299999   32.959999  111.480003  24.700001\n",
       "2016-12-31   69.120003  106.739998   90.320000  22.440001\n",
       "2017-12-31   98.750000  193.500000  103.690002  34.060001\n",
       "2018-12-31   93.150002  133.500000  103.459999  25.760000\n",
       "2019-12-31  118.839996  235.300003  117.220001  17.680000"
      ]
     },
     "execution_count": 53,
     "metadata": {},
     "output_type": "execute_result"
    }
   ],
   "source": [
    "p.resample(\"Y\").apply(lambda x: x[-1])"
   ]
  },
  {
   "cell_type": "code",
   "execution_count": 54,
   "metadata": {},
   "outputs": [],
   "source": [
    "annual_rets = price + Period(\"Y\", agg_func=lambda x: (x[-1] - x[0])/x[0])"
   ]
  },
  {
   "cell_type": "code",
   "execution_count": 55,
   "metadata": {},
   "outputs": [
    {
     "data": {
      "text/plain": [
       "<dalio.pipe.pipe.PipeLine at 0x7fbb3ce55b10>"
      ]
     },
     "execution_count": 55,
     "metadata": {},
     "output_type": "execute_result"
    }
   ],
   "source": [
    "price"
   ]
  },
  {
   "cell_type": "code",
   "execution_count": 56,
   "metadata": {},
   "outputs": [],
   "source": [
    "annual_rets = price + \\\n",
    "    Period(\"Y\", agg_func=lambda x: x[-1]) + \\\n",
    "    Change(strategy=\"pct_change\", rm_first=True)"
   ]
  },
  {
   "cell_type": "code",
   "execution_count": 57,
   "metadata": {},
   "outputs": [
    {
     "data": {
      "text/html": [
       "<div>\n",
       "<style scoped>\n",
       "    .dataframe tbody tr th:only-of-type {\n",
       "        vertical-align: middle;\n",
       "    }\n",
       "\n",
       "    .dataframe tbody tr th {\n",
       "        vertical-align: top;\n",
       "    }\n",
       "\n",
       "    .dataframe thead tr th {\n",
       "        text-align: left;\n",
       "    }\n",
       "\n",
       "    .dataframe thead tr:last-of-type th {\n",
       "        text-align: right;\n",
       "    }\n",
       "</style>\n",
       "<table border=\"1\" class=\"dataframe\">\n",
       "  <thead>\n",
       "    <tr>\n",
       "      <th>attribute</th>\n",
       "      <th colspan=\"4\" halign=\"left\">price</th>\n",
       "    </tr>\n",
       "    <tr>\n",
       "      <th>ticker</th>\n",
       "      <th>WMT</th>\n",
       "      <th>NVDA</th>\n",
       "      <th>RL</th>\n",
       "      <th>GPS</th>\n",
       "    </tr>\n",
       "    <tr>\n",
       "      <th>date</th>\n",
       "      <th></th>\n",
       "      <th></th>\n",
       "      <th></th>\n",
       "      <th></th>\n",
       "    </tr>\n",
       "  </thead>\n",
       "  <tbody>\n",
       "    <tr>\n",
       "      <th>1999-12-31</th>\n",
       "      <td>0.000000</td>\n",
       "      <td>0.000000</td>\n",
       "      <td>0.000000</td>\n",
       "      <td>0.000000</td>\n",
       "    </tr>\n",
       "    <tr>\n",
       "      <th>2000-12-31</th>\n",
       "      <td>-0.231465</td>\n",
       "      <td>0.396139</td>\n",
       "      <td>0.307692</td>\n",
       "      <td>-0.445652</td>\n",
       "    </tr>\n",
       "    <tr>\n",
       "      <th>2001-12-31</th>\n",
       "      <td>0.083294</td>\n",
       "      <td>3.083547</td>\n",
       "      <td>0.199328</td>\n",
       "      <td>-0.453333</td>\n",
       "    </tr>\n",
       "    <tr>\n",
       "      <th>2002-12-31</th>\n",
       "      <td>-0.122328</td>\n",
       "      <td>-0.827952</td>\n",
       "      <td>-0.186846</td>\n",
       "      <td>0.113343</td>\n",
       "    </tr>\n",
       "    <tr>\n",
       "      <th>2003-12-31</th>\n",
       "      <td>0.050287</td>\n",
       "      <td>1.015638</td>\n",
       "      <td>0.323529</td>\n",
       "      <td>0.495490</td>\n",
       "    </tr>\n",
       "    <tr>\n",
       "      <th>2004-12-31</th>\n",
       "      <td>-0.004336</td>\n",
       "      <td>0.015517</td>\n",
       "      <td>0.479167</td>\n",
       "      <td>-0.090047</td>\n",
       "    </tr>\n",
       "    <tr>\n",
       "      <th>2005-12-31</th>\n",
       "      <td>-0.113972</td>\n",
       "      <td>0.551783</td>\n",
       "      <td>0.317840</td>\n",
       "      <td>-0.164773</td>\n",
       "    </tr>\n",
       "    <tr>\n",
       "      <th>2006-12-31</th>\n",
       "      <td>-0.013248</td>\n",
       "      <td>1.024617</td>\n",
       "      <td>0.383327</td>\n",
       "      <td>0.105442</td>\n",
       "    </tr>\n",
       "    <tr>\n",
       "      <th>2007-12-31</th>\n",
       "      <td>0.029233</td>\n",
       "      <td>0.378816</td>\n",
       "      <td>-0.204352</td>\n",
       "      <td>0.091282</td>\n",
       "    </tr>\n",
       "    <tr>\n",
       "      <th>2008-12-31</th>\n",
       "      <td>0.179466</td>\n",
       "      <td>-0.762787</td>\n",
       "      <td>-0.265091</td>\n",
       "      <td>-0.370771</td>\n",
       "    </tr>\n",
       "    <tr>\n",
       "      <th>2009-12-31</th>\n",
       "      <td>-0.046557</td>\n",
       "      <td>1.314746</td>\n",
       "      <td>0.783308</td>\n",
       "      <td>0.564601</td>\n",
       "    </tr>\n",
       "    <tr>\n",
       "      <th>2010-12-31</th>\n",
       "      <td>0.008980</td>\n",
       "      <td>-0.175589</td>\n",
       "      <td>0.369721</td>\n",
       "      <td>0.056802</td>\n",
       "    </tr>\n",
       "    <tr>\n",
       "      <th>2011-12-31</th>\n",
       "      <td>0.108103</td>\n",
       "      <td>-0.100000</td>\n",
       "      <td>0.244861</td>\n",
       "      <td>-0.162150</td>\n",
       "    </tr>\n",
       "    <tr>\n",
       "      <th>2012-12-31</th>\n",
       "      <td>0.141734</td>\n",
       "      <td>-0.115440</td>\n",
       "      <td>0.085747</td>\n",
       "      <td>0.673316</td>\n",
       "    </tr>\n",
       "    <tr>\n",
       "      <th>2013-12-31</th>\n",
       "      <td>0.153305</td>\n",
       "      <td>0.306688</td>\n",
       "      <td>0.177762</td>\n",
       "      <td>0.259021</td>\n",
       "    </tr>\n",
       "    <tr>\n",
       "      <th>2014-12-31</th>\n",
       "      <td>0.091371</td>\n",
       "      <td>0.251560</td>\n",
       "      <td>0.048649</td>\n",
       "      <td>0.077533</td>\n",
       "    </tr>\n",
       "    <tr>\n",
       "      <th>2015-12-31</th>\n",
       "      <td>-0.286213</td>\n",
       "      <td>0.643890</td>\n",
       "      <td>-0.397926</td>\n",
       "      <td>-0.413441</td>\n",
       "    </tr>\n",
       "    <tr>\n",
       "      <th>2016-12-31</th>\n",
       "      <td>0.127569</td>\n",
       "      <td>2.238471</td>\n",
       "      <td>-0.189810</td>\n",
       "      <td>-0.091498</td>\n",
       "    </tr>\n",
       "    <tr>\n",
       "      <th>2017-12-31</th>\n",
       "      <td>0.428675</td>\n",
       "      <td>0.812816</td>\n",
       "      <td>0.148029</td>\n",
       "      <td>0.517825</td>\n",
       "    </tr>\n",
       "    <tr>\n",
       "      <th>2018-12-31</th>\n",
       "      <td>-0.056709</td>\n",
       "      <td>-0.310078</td>\n",
       "      <td>-0.002218</td>\n",
       "      <td>-0.243688</td>\n",
       "    </tr>\n",
       "    <tr>\n",
       "      <th>2019-12-31</th>\n",
       "      <td>0.275792</td>\n",
       "      <td>0.762547</td>\n",
       "      <td>0.132998</td>\n",
       "      <td>-0.313665</td>\n",
       "    </tr>\n",
       "  </tbody>\n",
       "</table>\n",
       "</div>"
      ],
      "text/plain": [
       "attribute      price                              \n",
       "ticker           WMT      NVDA        RL       GPS\n",
       "date                                              \n",
       "1999-12-31  0.000000  0.000000  0.000000  0.000000\n",
       "2000-12-31 -0.231465  0.396139  0.307692 -0.445652\n",
       "2001-12-31  0.083294  3.083547  0.199328 -0.453333\n",
       "2002-12-31 -0.122328 -0.827952 -0.186846  0.113343\n",
       "2003-12-31  0.050287  1.015638  0.323529  0.495490\n",
       "2004-12-31 -0.004336  0.015517  0.479167 -0.090047\n",
       "2005-12-31 -0.113972  0.551783  0.317840 -0.164773\n",
       "2006-12-31 -0.013248  1.024617  0.383327  0.105442\n",
       "2007-12-31  0.029233  0.378816 -0.204352  0.091282\n",
       "2008-12-31  0.179466 -0.762787 -0.265091 -0.370771\n",
       "2009-12-31 -0.046557  1.314746  0.783308  0.564601\n",
       "2010-12-31  0.008980 -0.175589  0.369721  0.056802\n",
       "2011-12-31  0.108103 -0.100000  0.244861 -0.162150\n",
       "2012-12-31  0.141734 -0.115440  0.085747  0.673316\n",
       "2013-12-31  0.153305  0.306688  0.177762  0.259021\n",
       "2014-12-31  0.091371  0.251560  0.048649  0.077533\n",
       "2015-12-31 -0.286213  0.643890 -0.397926 -0.413441\n",
       "2016-12-31  0.127569  2.238471 -0.189810 -0.091498\n",
       "2017-12-31  0.428675  0.812816  0.148029  0.517825\n",
       "2018-12-31 -0.056709 -0.310078 -0.002218 -0.243688\n",
       "2019-12-31  0.275792  0.762547  0.132998 -0.313665"
      ]
     },
     "execution_count": 57,
     "metadata": {},
     "output_type": "execute_result"
    }
   ],
   "source": [
    "annual_rets.run(ticker=ticker)"
   ]
  },
  {
   "cell_type": "code",
   "execution_count": 58,
   "metadata": {},
   "outputs": [],
   "source": [
    "avg_rets = simple_rets + Period(\"Y\", agg_func=np.mean)\n",
    "var_rets = simple_rets + Period(\"Y\", agg_func=np.var)\n",
    "std_rets = simple_rets + Period(\"Y\", agg_func=np.std)"
   ]
  },
  {
   "cell_type": "code",
   "execution_count": 59,
   "metadata": {},
   "outputs": [],
   "source": [
    "ann_agg = annual_rets + Custom(np.mean)"
   ]
  },
  {
   "cell_type": "code",
   "execution_count": 60,
   "metadata": {},
   "outputs": [
    {
     "data": {
      "text/plain": [
       "attribute  ticker\n",
       "price      WMT       0.038237\n",
       "           NVDA      0.500235\n",
       "           RL        0.131225\n",
       "           GPS       0.009792\n",
       "dtype: float64"
      ]
     },
     "execution_count": 60,
     "metadata": {},
     "output_type": "execute_result"
    }
   ],
   "source": [
    "ann_agg.run(ticker=ticker)"
   ]
  },
  {
   "cell_type": "code",
   "execution_count": 61,
   "metadata": {},
   "outputs": [],
   "source": [
    "cov_rets = annual_rets + Custom(lambda x: x.cov(), strategy=\"pipe\")\n",
    "corr_rets = annual_rets + Custom(lambda x: x.corr(), strategy=\"pipe\")"
   ]
  },
  {
   "cell_type": "code",
   "execution_count": 62,
   "metadata": {
    "scrolled": true
   },
   "outputs": [
    {
     "data": {
      "text/html": [
       "<div>\n",
       "<style scoped>\n",
       "    .dataframe tbody tr th:only-of-type {\n",
       "        vertical-align: middle;\n",
       "    }\n",
       "\n",
       "    .dataframe tbody tr th {\n",
       "        vertical-align: top;\n",
       "    }\n",
       "\n",
       "    .dataframe thead tr th {\n",
       "        text-align: left;\n",
       "    }\n",
       "\n",
       "    .dataframe thead tr:last-of-type th {\n",
       "        text-align: right;\n",
       "    }\n",
       "</style>\n",
       "<table border=\"1\" class=\"dataframe\">\n",
       "  <thead>\n",
       "    <tr>\n",
       "      <th></th>\n",
       "      <th>attribute</th>\n",
       "      <th colspan=\"4\" halign=\"left\">price</th>\n",
       "    </tr>\n",
       "    <tr>\n",
       "      <th></th>\n",
       "      <th>ticker</th>\n",
       "      <th>WMT</th>\n",
       "      <th>NVDA</th>\n",
       "      <th>RL</th>\n",
       "      <th>GPS</th>\n",
       "    </tr>\n",
       "    <tr>\n",
       "      <th>attribute</th>\n",
       "      <th>ticker</th>\n",
       "      <th></th>\n",
       "      <th></th>\n",
       "      <th></th>\n",
       "      <th></th>\n",
       "    </tr>\n",
       "  </thead>\n",
       "  <tbody>\n",
       "    <tr>\n",
       "      <th rowspan=\"4\" valign=\"top\">price</th>\n",
       "      <th>WMT</th>\n",
       "      <td>0.026033</td>\n",
       "      <td>0.018556</td>\n",
       "      <td>0.000466</td>\n",
       "      <td>0.018868</td>\n",
       "    </tr>\n",
       "    <tr>\n",
       "      <th>NVDA</th>\n",
       "      <td>0.018556</td>\n",
       "      <td>0.845544</td>\n",
       "      <td>0.054015</td>\n",
       "      <td>-0.018938</td>\n",
       "    </tr>\n",
       "    <tr>\n",
       "      <th>RL</th>\n",
       "      <td>0.000466</td>\n",
       "      <td>0.054015</td>\n",
       "      <td>0.079374</td>\n",
       "      <td>0.032883</td>\n",
       "    </tr>\n",
       "    <tr>\n",
       "      <th>GPS</th>\n",
       "      <td>0.018868</td>\n",
       "      <td>-0.018938</td>\n",
       "      <td>0.032883</td>\n",
       "      <td>0.116630</td>\n",
       "    </tr>\n",
       "  </tbody>\n",
       "</table>\n",
       "</div>"
      ],
      "text/plain": [
       "attribute            price                              \n",
       "ticker                 WMT      NVDA        RL       GPS\n",
       "attribute ticker                                        \n",
       "price     WMT     0.026033  0.018556  0.000466  0.018868\n",
       "          NVDA    0.018556  0.845544  0.054015 -0.018938\n",
       "          RL      0.000466  0.054015  0.079374  0.032883\n",
       "          GPS     0.018868 -0.018938  0.032883  0.116630"
      ]
     },
     "execution_count": 62,
     "metadata": {},
     "output_type": "execute_result"
    }
   ],
   "source": [
    "cov_rets.run(ticker=ticker)"
   ]
  },
  {
   "cell_type": "code",
   "execution_count": 63,
   "metadata": {},
   "outputs": [],
   "source": [
    "S = CovShrink(frequency=252)(price)\\\n",
    "    .set_piece(\"shrinkage\", \"ledoit_wolf\")\n",
    "\n",
    "mu = ExpectedReturns()(price)\\\n",
    "    .set_piece(\"return_model\", \"james_stein_shrinkage\")"
   ]
  },
  {
   "cell_type": "code",
   "execution_count": 64,
   "metadata": {},
   "outputs": [],
   "source": [
    "cla_lo = MakeCriticalLine(weight_bounds=(0.05, 1))\\\n",
    "    .set_input(\"sample_covariance\", cov_rets)\\\n",
    "    .set_input(\"expected_returns\", ann_agg)"
   ]
  },
  {
   "cell_type": "code",
   "execution_count": 65,
   "metadata": {},
   "outputs": [],
   "source": [
    "res = cla_lo.run(ticker=ticker)"
   ]
  },
  {
   "cell_type": "code",
   "execution_count": 66,
   "metadata": {},
   "outputs": [
    {
     "data": {
      "text/plain": [
       "([0.43416232498121704,\n",
       "  0.43416232498121704,\n",
       "  0.43416232498121704,\n",
       "  0.43416232498121704,\n",
       "  0.43416232498121704,\n",
       "  0.434162324981217,\n",
       "  0.43416232498121693,\n",
       "  0.43416232498121693,\n",
       "  0.43416232498121693,\n",
       "  0.43416232498121693,\n",
       "  0.4341623249812169,\n",
       "  0.4341623249812169,\n",
       "  0.4341623249812169,\n",
       "  0.4341623249812168,\n",
       "  0.4341623249812168,\n",
       "  0.4341623249812168,\n",
       "  0.4208122416106094,\n",
       "  0.407462158240002,\n",
       "  0.3941120748693946,\n",
       "  0.38076199149878714,\n",
       "  0.3674119081281797,\n",
       "  0.35406182475757225,\n",
       "  0.34071174138696486,\n",
       "  0.32736165801635736,\n",
       "  0.31401157464575,\n",
       "  0.3006614912751426,\n",
       "  0.28731140790453513,\n",
       "  0.2739613245339277,\n",
       "  0.26061124116332024,\n",
       "  0.24726115779271282,\n",
       "  0.2339110744221054,\n",
       "  0.2241351809741532,\n",
       "  0.21435928752620093,\n",
       "  0.20458339407824871,\n",
       "  0.19480750063029645,\n",
       "  0.18503160718234418,\n",
       "  0.17525571373439194,\n",
       "  0.1654798202864397,\n",
       "  0.15570392683848747,\n",
       "  0.14592803339053523,\n",
       "  0.136152139942583,\n",
       "  0.12637624649463075,\n",
       "  0.1166003530466785,\n",
       "  0.10682445959872625,\n",
       "  0.09704856615077402,\n",
       "  0.08727267270282177,\n",
       "  0.08727267270282177,\n",
       "  0.08727267270282177,\n",
       "  0.08727267270282177,\n",
       "  0.08727267270282177,\n",
       "  0.08727267270282177,\n",
       "  0.08727267270282177,\n",
       "  0.08727267270282177,\n",
       "  0.08727267270282177,\n",
       "  0.08727267270282177,\n",
       "  0.08727267270282177,\n",
       "  0.08727267270282177,\n",
       "  0.08727267270282177,\n",
       "  0.08727267270282177,\n",
       "  0.08727267270282177,\n",
       "  0.08727267270282177,\n",
       "  0.08666736297782954,\n",
       "  0.08606205325283728,\n",
       "  0.08545674352784505,\n",
       "  0.0848514338028528,\n",
       "  0.08424612407786056,\n",
       "  0.08364081435286833,\n",
       "  0.08303550462787607,\n",
       "  0.08243019490288384,\n",
       "  0.08182488517789159,\n",
       "  0.08121957545289935,\n",
       "  0.0806142657279071,\n",
       "  0.08000895600291487,\n",
       "  0.07940364627792262,\n",
       "  0.07879833655293038,\n",
       "  0.07819302682793813],\n",
       " [0.7850351857723843,\n",
       "  0.7850351857723843,\n",
       "  0.7850351857723843,\n",
       "  0.7850351857723843,\n",
       "  0.7850351857723843,\n",
       "  0.7850351857723841,\n",
       "  0.7850351857723841,\n",
       "  0.7850351857723841,\n",
       "  0.7850351857723841,\n",
       "  0.7850351857723841,\n",
       "  0.785035185772384,\n",
       "  0.785035185772384,\n",
       "  0.785035185772384,\n",
       "  0.7850351857723838,\n",
       "  0.7850351857723838,\n",
       "  0.7850351857723838,\n",
       "  0.7542427042144323,\n",
       "  0.723617469270688,\n",
       "  0.6931816485018396,\n",
       "  0.662961329806451,\n",
       "  0.6329873796773083,\n",
       "  0.6032965206726698,\n",
       "  0.5739326893406148,\n",
       "  0.5449487525857356,\n",
       "  0.5164086802221136,\n",
       "  0.4883902927840992,\n",
       "  0.46098872239538385,\n",
       "  0.43432073088757306,\n",
       "  0.4085300030532644,\n",
       "  0.38379343470632993,\n",
       "  0.3603281957683313,\n",
       "  0.34374664548515077,\n",
       "  0.32732907557283425,\n",
       "  0.3111014480276137,\n",
       "  0.2950950999776668,\n",
       "  0.27934807125380273,\n",
       "  0.2639067858393367,\n",
       "  0.24882816988299125,\n",
       "  0.23418228895248971,\n",
       "  0.22005556254540667,\n",
       "  0.20655453655575506,\n",
       "  0.19381001613123483,\n",
       "  0.18198100986162158,\n",
       "  0.17125733083334305,\n",
       "  0.16185882303571217,\n",
       "  0.15402825598340789,\n",
       "  0.15402825598340789,\n",
       "  0.1540282559834079,\n",
       "  0.1540282559834079,\n",
       "  0.1540282559834079,\n",
       "  0.1540282559834079,\n",
       "  0.1540282559834079,\n",
       "  0.1540282559834079,\n",
       "  0.1540282559834079,\n",
       "  0.1540282559834079,\n",
       "  0.15402825598340789,\n",
       "  0.1540282559834079,\n",
       "  0.15402825598340789,\n",
       "  0.15402825598340789,\n",
       "  0.15402825598340789,\n",
       "  0.15402825598340789,\n",
       "  0.15361092896517564,\n",
       "  0.15322136133910405,\n",
       "  0.15285976534223267,\n",
       "  0.152526339912707,\n",
       "  0.15222127016504924,\n",
       "  0.15194472689424024,\n",
       "  0.1516968661115966,\n",
       "  0.15147782861529324,\n",
       "  0.1512877395982196,\n",
       "  0.151126708295666,\n",
       "  0.1509948276751161,\n",
       "  0.15089217417017614,\n",
       "  0.1508188074604013,\n",
       "  0.15077477029849023,\n",
       "  0.1507600883860097],\n",
       " [array([[0.05],\n",
       "         [0.85],\n",
       "         [0.05],\n",
       "         [0.05]]),\n",
       "  array([[0.05],\n",
       "         [0.85],\n",
       "         [0.05],\n",
       "         [0.05]]),\n",
       "  array([[0.05],\n",
       "         [0.85],\n",
       "         [0.05],\n",
       "         [0.05]]),\n",
       "  array([[0.05],\n",
       "         [0.85],\n",
       "         [0.05],\n",
       "         [0.05]]),\n",
       "  array([[0.05],\n",
       "         [0.85],\n",
       "         [0.05],\n",
       "         [0.05]]),\n",
       "  array([[0.05],\n",
       "         [0.85],\n",
       "         [0.05],\n",
       "         [0.05]]),\n",
       "  array([[0.05],\n",
       "         [0.85],\n",
       "         [0.05],\n",
       "         [0.05]]),\n",
       "  array([[0.05],\n",
       "         [0.85],\n",
       "         [0.05],\n",
       "         [0.05]]),\n",
       "  array([[0.05],\n",
       "         [0.85],\n",
       "         [0.05],\n",
       "         [0.05]]),\n",
       "  array([[0.05],\n",
       "         [0.85],\n",
       "         [0.05],\n",
       "         [0.05]]),\n",
       "  array([[0.05],\n",
       "         [0.85],\n",
       "         [0.05],\n",
       "         [0.05]]),\n",
       "  array([[0.05],\n",
       "         [0.85],\n",
       "         [0.05],\n",
       "         [0.05]]),\n",
       "  array([[0.05],\n",
       "         [0.85],\n",
       "         [0.05],\n",
       "         [0.05]]),\n",
       "  array([[0.05],\n",
       "         [0.85],\n",
       "         [0.05],\n",
       "         [0.05]]),\n",
       "  array([[0.05],\n",
       "         [0.85],\n",
       "         [0.05],\n",
       "         [0.05]]),\n",
       "  array([[0.05],\n",
       "         [0.85],\n",
       "         [0.05],\n",
       "         [0.05]]),\n",
       "  array([[0.05      ],\n",
       "         [0.81382192],\n",
       "         [0.08617808],\n",
       "         [0.05      ]]),\n",
       "  array([[0.05      ],\n",
       "         [0.77764385],\n",
       "         [0.12235615],\n",
       "         [0.05      ]]),\n",
       "  array([[0.05      ],\n",
       "         [0.74146577],\n",
       "         [0.15853423],\n",
       "         [0.05      ]]),\n",
       "  array([[0.05      ],\n",
       "         [0.70528769],\n",
       "         [0.19471231],\n",
       "         [0.05      ]]),\n",
       "  array([[0.05      ],\n",
       "         [0.66910962],\n",
       "         [0.23089038],\n",
       "         [0.05      ]]),\n",
       "  array([[0.05      ],\n",
       "         [0.63293154],\n",
       "         [0.26706846],\n",
       "         [0.05      ]]),\n",
       "  array([[0.05      ],\n",
       "         [0.59675346],\n",
       "         [0.30324654],\n",
       "         [0.05      ]]),\n",
       "  array([[0.05      ],\n",
       "         [0.56057539],\n",
       "         [0.33942461],\n",
       "         [0.05      ]]),\n",
       "  array([[0.05      ],\n",
       "         [0.52439731],\n",
       "         [0.37560269],\n",
       "         [0.05      ]]),\n",
       "  array([[0.05      ],\n",
       "         [0.48821923],\n",
       "         [0.41178077],\n",
       "         [0.05      ]]),\n",
       "  array([[0.05      ],\n",
       "         [0.45204116],\n",
       "         [0.44795884],\n",
       "         [0.05      ]]),\n",
       "  array([[0.05      ],\n",
       "         [0.41586308],\n",
       "         [0.48413692],\n",
       "         [0.05      ]]),\n",
       "  array([[0.05    ],\n",
       "         [0.379685],\n",
       "         [0.520315],\n",
       "         [0.05    ]]),\n",
       "  array([[0.05      ],\n",
       "         [0.34350693],\n",
       "         [0.55649307],\n",
       "         [0.05      ]]),\n",
       "  array([[0.05      ],\n",
       "         [0.30732885],\n",
       "         [0.59267115],\n",
       "         [0.05      ]]),\n",
       "  array([[0.08705264],\n",
       "         [0.29017359],\n",
       "         [0.57277376],\n",
       "         [0.05      ]]),\n",
       "  array([[0.12410529],\n",
       "         [0.27301834],\n",
       "         [0.55287637],\n",
       "         [0.05      ]]),\n",
       "  array([[0.16115793],\n",
       "         [0.25586308],\n",
       "         [0.53297899],\n",
       "         [0.05      ]]),\n",
       "  array([[0.19821058],\n",
       "         [0.23870782],\n",
       "         [0.5130816 ],\n",
       "         [0.05      ]]),\n",
       "  array([[0.23526322],\n",
       "         [0.22155257],\n",
       "         [0.49318421],\n",
       "         [0.05      ]]),\n",
       "  array([[0.27231587],\n",
       "         [0.20439731],\n",
       "         [0.47328682],\n",
       "         [0.05      ]]),\n",
       "  array([[0.30936851],\n",
       "         [0.18724205],\n",
       "         [0.45338943],\n",
       "         [0.05      ]]),\n",
       "  array([[0.34642116],\n",
       "         [0.1700868 ],\n",
       "         [0.43349205],\n",
       "         [0.05      ]]),\n",
       "  array([[0.3834738 ],\n",
       "         [0.15293154],\n",
       "         [0.41359466],\n",
       "         [0.05      ]]),\n",
       "  array([[0.42052645],\n",
       "         [0.13577628],\n",
       "         [0.39369727],\n",
       "         [0.05      ]]),\n",
       "  array([[0.45757909],\n",
       "         [0.11862103],\n",
       "         [0.37379988],\n",
       "         [0.05      ]]),\n",
       "  array([[0.49463174],\n",
       "         [0.10146577],\n",
       "         [0.35390249],\n",
       "         [0.05      ]]),\n",
       "  array([[0.53168438],\n",
       "         [0.08431051],\n",
       "         [0.3340051 ],\n",
       "         [0.05      ]]),\n",
       "  array([[0.56873703],\n",
       "         [0.06715526],\n",
       "         [0.31410772],\n",
       "         [0.05      ]]),\n",
       "  array([[0.60578967],\n",
       "         [0.05      ],\n",
       "         [0.29421033],\n",
       "         [0.05      ]]),\n",
       "  array([[0.60578967],\n",
       "         [0.05      ],\n",
       "         [0.29421033],\n",
       "         [0.05      ]]),\n",
       "  array([[0.60578967],\n",
       "         [0.05      ],\n",
       "         [0.29421033],\n",
       "         [0.05      ]]),\n",
       "  array([[0.60578967],\n",
       "         [0.05      ],\n",
       "         [0.29421033],\n",
       "         [0.05      ]]),\n",
       "  array([[0.60578967],\n",
       "         [0.05      ],\n",
       "         [0.29421033],\n",
       "         [0.05      ]]),\n",
       "  array([[0.60578967],\n",
       "         [0.05      ],\n",
       "         [0.29421033],\n",
       "         [0.05      ]]),\n",
       "  array([[0.60578967],\n",
       "         [0.05      ],\n",
       "         [0.29421033],\n",
       "         [0.05      ]]),\n",
       "  array([[0.60578967],\n",
       "         [0.05      ],\n",
       "         [0.29421033],\n",
       "         [0.05      ]]),\n",
       "  array([[0.60578967],\n",
       "         [0.05      ],\n",
       "         [0.29421033],\n",
       "         [0.05      ]]),\n",
       "  array([[0.60578967],\n",
       "         [0.05      ],\n",
       "         [0.29421033],\n",
       "         [0.05      ]]),\n",
       "  array([[0.60578967],\n",
       "         [0.05      ],\n",
       "         [0.29421033],\n",
       "         [0.05      ]]),\n",
       "  array([[0.60578967],\n",
       "         [0.05      ],\n",
       "         [0.29421033],\n",
       "         [0.05      ]]),\n",
       "  array([[0.60578967],\n",
       "         [0.05      ],\n",
       "         [0.29421033],\n",
       "         [0.05      ]]),\n",
       "  array([[0.60578967],\n",
       "         [0.05      ],\n",
       "         [0.29421033],\n",
       "         [0.05      ]]),\n",
       "  array([[0.60578967],\n",
       "         [0.05      ],\n",
       "         [0.29421033],\n",
       "         [0.05      ]]),\n",
       "  array([[0.60578967],\n",
       "         [0.05      ],\n",
       "         [0.29421033],\n",
       "         [0.05      ]]),\n",
       "  array([[0.61229926],\n",
       "         [0.05      ],\n",
       "         [0.28770074],\n",
       "         [0.05      ]]),\n",
       "  array([[0.61880886],\n",
       "         [0.05      ],\n",
       "         [0.28119114],\n",
       "         [0.05      ]]),\n",
       "  array([[0.62531845],\n",
       "         [0.05      ],\n",
       "         [0.27468155],\n",
       "         [0.05      ]]),\n",
       "  array([[0.63182804],\n",
       "         [0.05      ],\n",
       "         [0.26817196],\n",
       "         [0.05      ]]),\n",
       "  array([[0.63833764],\n",
       "         [0.05      ],\n",
       "         [0.26166236],\n",
       "         [0.05      ]]),\n",
       "  array([[0.64484723],\n",
       "         [0.05      ],\n",
       "         [0.25515277],\n",
       "         [0.05      ]]),\n",
       "  array([[0.65135682],\n",
       "         [0.05      ],\n",
       "         [0.24864318],\n",
       "         [0.05      ]]),\n",
       "  array([[0.65786641],\n",
       "         [0.05      ],\n",
       "         [0.24213359],\n",
       "         [0.05      ]]),\n",
       "  array([[0.66437601],\n",
       "         [0.05      ],\n",
       "         [0.23562399],\n",
       "         [0.05      ]]),\n",
       "  array([[0.6708856],\n",
       "         [0.05     ],\n",
       "         [0.2291144],\n",
       "         [0.05     ]]),\n",
       "  array([[0.67739519],\n",
       "         [0.05      ],\n",
       "         [0.22260481],\n",
       "         [0.05      ]]),\n",
       "  array([[0.68390479],\n",
       "         [0.05      ],\n",
       "         [0.21609521],\n",
       "         [0.05      ]]),\n",
       "  array([[0.69041438],\n",
       "         [0.05      ],\n",
       "         [0.20958562],\n",
       "         [0.05      ]]),\n",
       "  array([[0.69692397],\n",
       "         [0.05      ],\n",
       "         [0.20307603],\n",
       "         [0.05      ]]),\n",
       "  array([[0.70343357],\n",
       "         [0.05      ],\n",
       "         [0.19656643],\n",
       "         [0.05      ]])])"
      ]
     },
     "execution_count": 66,
     "metadata": {},
     "output_type": "execute_result"
    }
   ],
   "source": [
    "res.efficient_frontier(points=100)"
   ]
  },
  {
   "cell_type": "code",
   "execution_count": 67,
   "metadata": {},
   "outputs": [
    {
     "data": {
      "image/png": "[encoded data removed]",
      "text/plain": [
       "<Figure size 864x576 with 1 Axes>"
      ]
     },
     "metadata": {
      "needs_background": "light"
     },
     "output_type": "display_data"
    }
   ],
   "source": [
    "cla_graph = Grapher()\\\n",
    "    .set_input(\"data_in\", cla_lo)\\\n",
    "    .set_output(\"data_out\", PyPfOptGraph(figsize=(12, 8)))"
   ]
  },
  {
   "cell_type": "code",
   "execution_count": 68,
   "metadata": {},
   "outputs": [
    {
     "data": {
      "image/png": "[encoded data removed]",
      "text/plain": [
       "<Figure size 864x576 with 1 Axes>"
      ]
     },
     "execution_count": 68,
     "metadata": {},
     "output_type": "execute_result"
    }
   ],
   "source": [
    "cla_graph.run(ticker=ticker)"
   ]
  },
  {
   "cell_type": "markdown",
   "metadata": {},
   "source": [
    "## Part C"
   ]
  },
  {
   "cell_type": "markdown",
   "metadata": {},
   "source": [
    "### Setup Efficient Frontier"
   ]
  },
  {
   "cell_type": "code",
   "execution_count": 69,
   "metadata": {},
   "outputs": [],
   "source": [
    "ef_lo = MakeEfficientFrontier(weight_bounds=(0.05, 1))\\\n",
    "    .set_input(\"sample_covariance\", cov_rets)\\\n",
    "    .set_input(\"expected_returns\", ann_agg)\n",
    "\n",
    "ef_ls = MakeEfficientFrontier(weight_bounds=(-1, 1))\\\n",
    "    .set_input(\"sample_covariance\", cov_rets)\\\n",
    "    .set_input(\"expected_returns\", ann_agg)"
   ]
  },
  {
   "cell_type": "markdown",
   "metadata": {},
   "source": [
    "#### Get long-only efficient frontier"
   ]
  },
  {
   "cell_type": "code",
   "execution_count": 70,
   "metadata": {
    "scrolled": true
   },
   "outputs": [],
   "source": [
    "lo_res = ef_lo.run(ticker=ticker)"
   ]
  },
  {
   "cell_type": "code",
   "execution_count": 71,
   "metadata": {
    "tags": []
   },
   "outputs": [
    {
     "name": "stderr",
     "output_type": "stream",
     "text": [
      "/home/renatomz/anaconda3/lib/python3.7/site-packages/cvxpy/expressions/expression.py:516: UserWarning: \n",
      "This use of ``*`` has resulted in matrix multiplication.\n",
      "Using ``*`` for matrix multiplication has been deprecated since CVXPY 1.1.\n",
      "    Use ``*`` for matrix-scalar and vector-scalar multiplication.\n",
      "    Use ``@`` for matrix-matrix and matrix-vector multiplication.\n",
      "    Use ``multiply`` for elementwise multiplication.\n",
      "\n",
      "  warnings.warn(__STAR_MATMUL_WARNING__, UserWarning)\n"
     ]
    },
    {
     "data": {
      "text/plain": [
       "{'WMT': 0.3240757020532462,\n",
       " 'NVDA': 0.1804326714685152,\n",
       " 'RL': 0.4454916264782386,\n",
       " 'GPS': 0.05}"
      ]
     },
     "execution_count": 71,
     "metadata": {},
     "output_type": "execute_result"
    }
   ],
   "source": [
    "lo_res.max_sharpe(risk_free_rate=0.0)"
   ]
  },
  {
   "cell_type": "code",
   "execution_count": 72,
   "metadata": {
    "scrolled": true
   },
   "outputs": [
    {
     "data": {
      "text/plain": [
       "(0.16159950594339884, 0.24295862066096674, 0.5828132607856378)"
      ]
     },
     "execution_count": 72,
     "metadata": {},
     "output_type": "execute_result"
    }
   ],
   "source": [
    "lo_res.portfolio_performance()"
   ]
  },
  {
   "cell_type": "markdown",
   "metadata": {},
   "source": [
    "#### Get long-short efficient frontier"
   ]
  },
  {
   "cell_type": "code",
   "execution_count": 73,
   "metadata": {
    "scrolled": true,
    "tags": []
   },
   "outputs": [],
   "source": [
    "ls_res = ef_ls.run(ticker=ticker)"
   ]
  },
  {
   "cell_type": "code",
   "execution_count": 74,
   "metadata": {
    "tags": []
   },
   "outputs": [
    {
     "name": "stderr",
     "output_type": "stream",
     "text": [
      "/home/renatomz/anaconda3/lib/python3.7/site-packages/cvxpy/expressions/expression.py:516: UserWarning: \n",
      "This use of ``*`` has resulted in matrix multiplication.\n",
      "Using ``*`` for matrix multiplication has been deprecated since CVXPY 1.1.\n",
      "    Use ``*`` for matrix-scalar and vector-scalar multiplication.\n",
      "    Use ``@`` for matrix-matrix and matrix-vector multiplication.\n",
      "    Use ``multiply`` for elementwise multiplication.\n",
      "\n",
      "  warnings.warn(__STAR_MATMUL_WARNING__, UserWarning)\n"
     ]
    },
    {
     "data": {
      "text/plain": [
       "{'WMT': 0.5039882108698959,\n",
       " 'NVDA': 0.1499854239780582,\n",
       " 'RL': 0.522316725407506,\n",
       " 'GPS': -0.17629036025546}"
      ]
     },
     "execution_count": 74,
     "metadata": {},
     "output_type": "execute_result"
    }
   ],
   "source": [
    "ls_res.max_sharpe(risk_free_rate=0.0)"
   ]
  },
  {
   "cell_type": "code",
   "execution_count": 75,
   "metadata": {
    "scrolled": true
   },
   "outputs": [
    {
     "data": {
      "text/plain": [
       "(0.16111353881182572, 0.2324207553132237, 0.6071468902235213)"
      ]
     },
     "execution_count": 75,
     "metadata": {},
     "output_type": "execute_result"
    }
   ],
   "source": [
    "ls_res.portfolio_performance()"
   ]
  },
  {
   "cell_type": "markdown",
   "metadata": {},
   "source": [
    "#### Get optimum weights"
   ]
  },
  {
   "cell_type": "code",
   "execution_count": 76,
   "metadata": {},
   "outputs": [],
   "source": [
    "max_shp_weights_lo = OptimumWeights()(ef_lo)\\\n",
    "    .set_piece(\"strategy\", \"max_sharpe\", risk_free_rate=0.0)\n",
    "\n",
    "max_shp_weights_ls = OptimumWeights()(ef_ls)\\\n",
    "    .set_piece(\"strategy\", \"max_sharpe\", risk_free_rate=0.0)\n",
    "\n",
    "min_vol_weights_lo = max_shp_weights_lo.with_piece(\"strategy\", \"min_volatility\")\n",
    "\n",
    "min_vol_weights_ls = max_shp_weights_ls.with_piece(\"strategy\", \"min_volatility\")"
   ]
  },
  {
   "cell_type": "code",
   "execution_count": 77,
   "metadata": {
    "tags": []
   },
   "outputs": [
    {
     "name": "stderr",
     "output_type": "stream",
     "text": [
      "/home/renatomz/anaconda3/lib/python3.7/site-packages/cvxpy/expressions/expression.py:516: UserWarning: \n",
      "This use of ``*`` has resulted in matrix multiplication.\n",
      "Using ``*`` for matrix multiplication has been deprecated since CVXPY 1.1.\n",
      "    Use ``*`` for matrix-scalar and vector-scalar multiplication.\n",
      "    Use ``@`` for matrix-matrix and matrix-vector multiplication.\n",
      "    Use ``multiply`` for elementwise multiplication.\n",
      "\n",
      "  warnings.warn(__STAR_MATMUL_WARNING__, UserWarning)\n"
     ]
    },
    {
     "data": {
      "text/plain": [
       "{'WMT': 0.32408, 'NVDA': 0.18043, 'RL': 0.44549, 'GPS': 0.05}"
      ]
     },
     "execution_count": 77,
     "metadata": {},
     "output_type": "execute_result"
    }
   ],
   "source": [
    "max_shp_weights_lo.run(ticker=ticker)"
   ]
  },
  {
   "cell_type": "code",
   "execution_count": 78,
   "metadata": {
    "tags": []
   },
   "outputs": [
    {
     "name": "stderr",
     "output_type": "stream",
     "text": [
      "/home/renatomz/anaconda3/lib/python3.7/site-packages/cvxpy/expressions/expression.py:516: UserWarning: \n",
      "This use of ``*`` has resulted in matrix multiplication.\n",
      "Using ``*`` for matrix multiplication has been deprecated since CVXPY 1.1.\n",
      "    Use ``*`` for matrix-scalar and vector-scalar multiplication.\n",
      "    Use ``@`` for matrix-matrix and matrix-vector multiplication.\n",
      "    Use ``multiply`` for elementwise multiplication.\n",
      "\n",
      "  warnings.warn(__STAR_MATMUL_WARNING__, UserWarning)\n"
     ]
    },
    {
     "data": {
      "text/plain": [
       "{'WMT': 0.50399, 'NVDA': 0.14999, 'RL': 0.52232, 'GPS': -0.17629}"
      ]
     },
     "execution_count": 78,
     "metadata": {},
     "output_type": "execute_result"
    }
   ],
   "source": [
    "max_shp_weights_ls.run(ticker=ticker)"
   ]
  },
  {
   "cell_type": "code",
   "execution_count": 79,
   "metadata": {
    "tags": []
   },
   "outputs": [
    {
     "data": {
      "text/plain": [
       "{'WMT': 0.70343, 'NVDA': 0.05, 'RL': 0.19657, 'GPS': 0.05}"
      ]
     },
     "execution_count": 79,
     "metadata": {},
     "output_type": "execute_result"
    }
   ],
   "source": [
    "min_vol_weights_lo.run(ticker=ticker)"
   ]
  },
  {
   "cell_type": "code",
   "execution_count": 80,
   "metadata": {},
   "outputs": [
    {
     "data": {
      "text/plain": [
       "{'WMT': 0.78186, 'NVDA': -0.01168, 'RL': 0.26479, 'GPS': -0.03497}"
      ]
     },
     "execution_count": 80,
     "metadata": {},
     "output_type": "execute_result"
    }
   ],
   "source": [
    "min_vol_weights_ls.run(ticker=ticker)"
   ]
  },
  {
   "cell_type": "markdown",
   "metadata": {},
   "source": [
    "## Part D"
   ]
  },
  {
   "cell_type": "markdown",
   "metadata": {},
   "source": [
    "### Setup"
   ]
  },
  {
   "cell_type": "code",
   "execution_count": 81,
   "metadata": {},
   "outputs": [],
   "source": [
    "two_years = DateSelect()\\\n",
    "    .set_start(\"2018-01-01\")\\\n",
    "    .set_end(\"2019-12-31\")\n",
    "\n",
    "price_2y = PipeLine(two_years)(mem)\n",
    "rets_2y = simple_rets.with_input(price_2y)"
   ]
  },
  {
   "cell_type": "code",
   "execution_count": 82,
   "metadata": {},
   "outputs": [],
   "source": [
    "lm = PandasLinearModel()\\\n",
    "    .set_input(Index(100)(price_2y))\\\n",
    "    .set_piece(\"strategy\", \"LinearRegression\")"
   ]
  },
  {
   "cell_type": "code",
   "execution_count": 83,
   "metadata": {},
   "outputs": [],
   "source": [
    "res = lm.run(ticker=ticker)"
   ]
  },
  {
   "cell_type": "code",
   "execution_count": 84,
   "metadata": {},
   "outputs": [
    {
     "data": {
      "text/plain": [
       "array([ 85.73506574, 122.64274603, 117.85329192, 102.61918028])"
      ]
     },
     "execution_count": 84,
     "metadata": {},
     "output_type": "execute_result"
    }
   ],
   "source": [
    "res.intercept_"
   ]
  },
  {
   "cell_type": "code",
   "execution_count": 85,
   "metadata": {},
   "outputs": [
    {
     "data": {
      "text/plain": [
       "array([[ 0.06416141],\n",
       "       [-0.08205923],\n",
       "       [-0.03095355],\n",
       "       [-0.11105704]])"
      ]
     },
     "execution_count": 85,
     "metadata": {},
     "output_type": "execute_result"
    }
   ],
   "source": [
    "res.coef_"
   ]
  },
  {
   "cell_type": "code",
   "execution_count": 86,
   "metadata": {},
   "outputs": [
    {
     "data": {
      "image/png": "[encoded data removed]",
      "text/plain": [
       "<Figure size 864x576 with 1 Axes>"
      ]
     },
     "metadata": {
      "needs_background": "light"
     },
     "output_type": "display_data"
    }
   ],
   "source": [
    "all_lm_graph = LMGrapher(legend=\"upper left\")\\\n",
    "    .set_input(\"data_in\", Index(100)(price_2y))\\\n",
    "    .set_input(\"linear_model\", lm)\\\n",
    "    .set_output(\"data_out\", PyPlotGraph(figsize=(12, 8)))"
   ]
  },
  {
   "cell_type": "code",
   "execution_count": 87,
   "metadata": {
    "scrolled": true,
    "tags": []
   },
   "outputs": [
    {
     "name": "stderr",
     "output_type": "stream",
     "text": [
      "../dalio/application/graphers.py:445: UserWarning: Matplotlib is currently using module://ipykernel.pylab.backend_inline, which is a non-GUI backend, so cannot show the figure.\n",
      "  fig.show()\n"
     ]
    },
    {
     "data": {
      "image/png": "[encoded data removed]",
      "text/plain": [
       "<Figure size 864x576 with 1 Axes>"
      ]
     },
     "execution_count": 87,
     "metadata": {},
     "output_type": "execute_result"
    }
   ],
   "source": [
    "all_lm_graph.run(ticker=ticker)"
   ]
  },
  {
   "cell_type": "code",
   "execution_count": 88,
   "metadata": {},
   "outputs": [
    {
     "name": "stderr",
     "output_type": "stream",
     "text": [
      "/home/renatomz/anaconda3/lib/python3.7/site-packages/xlrd/xlsx.py:266: PendingDeprecationWarning: This method will be removed in future versions.  Use 'tree.iter()' or 'list(tree.iter())' instead.\n",
      "  for elem in self.tree.iter() if Element_has_iter else self.tree.getiterator():\n",
      "/home/renatomz/anaconda3/lib/python3.7/site-packages/xlrd/xlsx.py:312: PendingDeprecationWarning: This method will be removed in future versions.  Use 'tree.iter()' or 'list(tree.iter())' instead.\n",
      "  for elem in self.tree.iter() if Element_has_iter else self.tree.getiterator():\n",
      "/home/renatomz/anaconda3/lib/python3.7/site-packages/cvxpy/expressions/expression.py:516: UserWarning: \n",
      "This use of ``*`` has resulted in matrix multiplication.\n",
      "Using ``*`` for matrix multiplication has been deprecated since CVXPY 1.1.\n",
      "    Use ``*`` for matrix-scalar and vector-scalar multiplication.\n",
      "    Use ``@`` for matrix-matrix and matrix-vector multiplication.\n",
      "    Use ``multiply`` for elementwise multiplication.\n",
      "\n",
      "  warnings.warn(__STAR_MATMUL_WARNING__, UserWarning)\n",
      "/home/renatomz/anaconda3/lib/python3.7/site-packages/xlrd/xlsx.py:266: PendingDeprecationWarning: This method will be removed in future versions.  Use 'tree.iter()' or 'list(tree.iter())' instead.\n",
      "  for elem in self.tree.iter() if Element_has_iter else self.tree.getiterator():\n",
      "/home/renatomz/anaconda3/lib/python3.7/site-packages/xlrd/xlsx.py:312: PendingDeprecationWarning: This method will be removed in future versions.  Use 'tree.iter()' or 'list(tree.iter())' instead.\n",
      "  for elem in self.tree.iter() if Element_has_iter else self.tree.getiterator():\n"
     ]
    }
   ],
   "source": [
    "comp_tick = \"WMT\"\n",
    "\n",
    "spy = ColSelect((\"price\", \"SPY\"))(rets_2y)\n",
    "comp = ColSelect((\"price\", comp_tick))(rets_2y)\n",
    "\n",
    " # Using simple_rets for full data optimization\n",
    "opt_port = OptimumPortfolio()\\\n",
    "    .set_input(\"data_in\", simple_rets)\\\n",
    "    .set_input(\"weights_in\", max_shp_weights_lo)\n",
    "\n",
    "sp500_lm = XYLinearModel()\\\n",
    "    .set_input(\"x\", spy)\\\n",
    "    .set_input(\"y\", two_years(opt_port))\\\n",
    "    .set_piece(\"strategy\", \"LinearRegression\")\n",
    "\n",
    "lm_res = sp500_lm.run(ticker=[comp_tick, \"SPY\"])"
   ]
  },
  {
   "cell_type": "code",
   "execution_count": 89,
   "metadata": {
    "scrolled": false,
    "tags": []
   },
   "outputs": [
    {
     "name": "stderr",
     "output_type": "stream",
     "text": [
      "/home/renatomz/anaconda3/lib/python3.7/site-packages/cvxpy/expressions/expression.py:516: UserWarning: \n",
      "This use of ``*`` has resulted in matrix multiplication.\n",
      "Using ``*`` for matrix multiplication has been deprecated since CVXPY 1.1.\n",
      "    Use ``*`` for matrix-scalar and vector-scalar multiplication.\n",
      "    Use ``@`` for matrix-matrix and matrix-vector multiplication.\n",
      "    Use ``multiply`` for elementwise multiplication.\n",
      "\n",
      "  warnings.warn(__STAR_MATMUL_WARNING__, UserWarning)\n",
      "/home/renatomz/anaconda3/lib/python3.7/site-packages/xlrd/xlsx.py:266: PendingDeprecationWarning: This method will be removed in future versions.  Use 'tree.iter()' or 'list(tree.iter())' instead.\n",
      "  for elem in self.tree.iter() if Element_has_iter else self.tree.getiterator():\n",
      "/home/renatomz/anaconda3/lib/python3.7/site-packages/xlrd/xlsx.py:312: PendingDeprecationWarning: This method will be removed in future versions.  Use 'tree.iter()' or 'list(tree.iter())' instead.\n",
      "  for elem in self.tree.iter() if Element_has_iter else self.tree.getiterator():\n"
     ]
    },
    {
     "data": {
      "text/html": [
       "<div>\n",
       "<style scoped>\n",
       "    .dataframe tbody tr th:only-of-type {\n",
       "        vertical-align: middle;\n",
       "    }\n",
       "\n",
       "    .dataframe tbody tr th {\n",
       "        vertical-align: top;\n",
       "    }\n",
       "\n",
       "    .dataframe thead tr th {\n",
       "        text-align: left;\n",
       "    }\n",
       "\n",
       "    .dataframe thead tr:last-of-type th {\n",
       "        text-align: right;\n",
       "    }\n",
       "</style>\n",
       "<table border=\"1\" class=\"dataframe\">\n",
       "  <thead>\n",
       "    <tr>\n",
       "      <th>attribute</th>\n",
       "      <th>price</th>\n",
       "    </tr>\n",
       "    <tr>\n",
       "      <th>ticker</th>\n",
       "      <th>portfolio</th>\n",
       "    </tr>\n",
       "    <tr>\n",
       "      <th>date</th>\n",
       "      <th></th>\n",
       "    </tr>\n",
       "  </thead>\n",
       "  <tbody>\n",
       "    <tr>\n",
       "      <th>1999-12-31</th>\n",
       "      <td>0.000000</td>\n",
       "    </tr>\n",
       "    <tr>\n",
       "      <th>2000-01-03</th>\n",
       "      <td>-0.004656</td>\n",
       "    </tr>\n",
       "    <tr>\n",
       "      <th>2000-01-04</th>\n",
       "      <td>-0.036320</td>\n",
       "    </tr>\n",
       "    <tr>\n",
       "      <th>2000-01-05</th>\n",
       "      <td>-0.006423</td>\n",
       "    </tr>\n",
       "    <tr>\n",
       "      <th>2000-01-06</th>\n",
       "      <td>-0.002340</td>\n",
       "    </tr>\n",
       "    <tr>\n",
       "      <th>...</th>\n",
       "      <td>...</td>\n",
       "    </tr>\n",
       "    <tr>\n",
       "      <th>2019-12-24</th>\n",
       "      <td>0.003179</td>\n",
       "    </tr>\n",
       "    <tr>\n",
       "      <th>2019-12-26</th>\n",
       "      <td>0.001506</td>\n",
       "    </tr>\n",
       "    <tr>\n",
       "      <th>2019-12-27</th>\n",
       "      <td>-0.005564</td>\n",
       "    </tr>\n",
       "    <tr>\n",
       "      <th>2019-12-30</th>\n",
       "      <td>-0.007158</td>\n",
       "    </tr>\n",
       "    <tr>\n",
       "      <th>2019-12-31</th>\n",
       "      <td>0.002847</td>\n",
       "    </tr>\n",
       "  </tbody>\n",
       "</table>\n",
       "<p>5032 rows × 1 columns</p>\n",
       "</div>"
      ],
      "text/plain": [
       "attribute      price\n",
       "ticker     portfolio\n",
       "date                \n",
       "1999-12-31  0.000000\n",
       "2000-01-03 -0.004656\n",
       "2000-01-04 -0.036320\n",
       "2000-01-05 -0.006423\n",
       "2000-01-06 -0.002340\n",
       "...              ...\n",
       "2019-12-24  0.003179\n",
       "2019-12-26  0.001506\n",
       "2019-12-27 -0.005564\n",
       "2019-12-30 -0.007158\n",
       "2019-12-31  0.002847\n",
       "\n",
       "[5032 rows x 1 columns]"
      ]
     },
     "execution_count": 89,
     "metadata": {},
     "output_type": "execute_result"
    }
   ],
   "source": [
    "opt_port.run(ticker=ticker)"
   ]
  },
  {
   "cell_type": "code",
   "execution_count": 90,
   "metadata": {},
   "outputs": [
    {
     "data": {
      "text/plain": [
       "array([[0.8576271]])"
      ]
     },
     "execution_count": 90,
     "metadata": {},
     "output_type": "execute_result"
    }
   ],
   "source": [
    "lm_res.coef_"
   ]
  },
  {
   "cell_type": "code",
   "execution_count": 91,
   "metadata": {
    "tags": []
   },
   "outputs": [
    {
     "name": "stderr",
     "output_type": "stream",
     "text": [
      "/home/renatomz/anaconda3/lib/python3.7/site-packages/xlrd/xlsx.py:266: PendingDeprecationWarning: This method will be removed in future versions.  Use 'tree.iter()' or 'list(tree.iter())' instead.\n",
      "  for elem in self.tree.iter() if Element_has_iter else self.tree.getiterator():\n",
      "/home/renatomz/anaconda3/lib/python3.7/site-packages/xlrd/xlsx.py:312: PendingDeprecationWarning: This method will be removed in future versions.  Use 'tree.iter()' or 'list(tree.iter())' instead.\n",
      "  for elem in self.tree.iter() if Element_has_iter else self.tree.getiterator():\n"
     ]
    },
    {
     "data": {
      "text/plain": [
       "0.19497781412284798"
      ]
     },
     "execution_count": 91,
     "metadata": {},
     "output_type": "execute_result"
    }
   ],
   "source": [
    "lm_res.score(\n",
    "    spy.run(), \n",
    "    comp.run()\n",
    ")"
   ]
  },
  {
   "cell_type": "code",
   "execution_count": 92,
   "metadata": {},
   "outputs": [
    {
     "data": {
      "image/png": "[encoded data removed]",
      "text/plain": [
       "<Figure size 864x576 with 1 Axes>"
      ]
     },
     "metadata": {
      "needs_background": "light"
     },
     "output_type": "display_data"
    }
   ],
   "source": [
    "sp500_lm_graph = LMGrapher(x=(\"price\", \"SPY\"), y=(\"price\", \"WMT\"))\\\n",
    "    .set_input(\"data_in\", rets_2y)\\\n",
    "    .set_input(\"linear_model\", sp500_lm)\\\n",
    "    .set_output(\"data_out\", PyPlotGraph(figsize=(12, 8)))"
   ]
  },
  {
   "cell_type": "code",
   "execution_count": 93,
   "metadata": {
    "scrolled": false,
    "tags": []
   },
   "outputs": [
    {
     "name": "stderr",
     "output_type": "stream",
     "text": [
      "/home/renatomz/anaconda3/lib/python3.7/site-packages/cvxpy/expressions/expression.py:516: UserWarning: \n",
      "This use of ``*`` has resulted in matrix multiplication.\n",
      "Using ``*`` for matrix multiplication has been deprecated since CVXPY 1.1.\n",
      "    Use ``*`` for matrix-scalar and vector-scalar multiplication.\n",
      "    Use ``@`` for matrix-matrix and matrix-vector multiplication.\n",
      "    Use ``multiply`` for elementwise multiplication.\n",
      "\n",
      "  warnings.warn(__STAR_MATMUL_WARNING__, UserWarning)\n",
      "../dalio/application/graphers.py:445: UserWarning: Matplotlib is currently using module://ipykernel.pylab.backend_inline, which is a non-GUI backend, so cannot show the figure.\n",
      "  fig.show()\n"
     ]
    },
    {
     "data": {
      "image/png": "[encoded data removed]",
      "text/plain": [
       "<Figure size 864x576 with 1 Axes>"
      ]
     },
     "execution_count": 93,
     "metadata": {},
     "output_type": "execute_result"
    }
   ],
   "source": [
    "sp500_lm_graph.run(ticker=[\"WMT\", \"SPY\"])"
   ]
  },
  {
   "cell_type": "markdown",
   "metadata": {},
   "source": [
    "## Part E"
   ]
  },
  {
   "cell_type": "markdown",
   "metadata": {},
   "source": [
    "### Setup"
   ]
  },
  {
   "cell_type": "code",
   "execution_count": 94,
   "metadata": {},
   "outputs": [],
   "source": [
    "sp500_const = MakeEfficientFrontier(weight_bounds=(0.05, 1))\\\n",
    "    .set_input(\"sample_covariance\", cov_rets)\\\n",
    "    .set_input(\"expected_returns\", ann_agg)\\\n",
    "    .add_stock_weight_constraint(ticker=\"SPY\", comparisson=\"==\", weight=0.6)"
   ]
  },
  {
   "cell_type": "code",
   "execution_count": 95,
   "metadata": {
    "scrolled": true,
    "tags": []
   },
   "outputs": [
    {
     "name": "stderr",
     "output_type": "stream",
     "text": [
      "/home/renatomz/anaconda3/lib/python3.7/site-packages/xlrd/xlsx.py:266: PendingDeprecationWarning: This method will be removed in future versions.  Use 'tree.iter()' or 'list(tree.iter())' instead.\n",
      "  for elem in self.tree.iter() if Element_has_iter else self.tree.getiterator():\n",
      "/home/renatomz/anaconda3/lib/python3.7/site-packages/xlrd/xlsx.py:312: PendingDeprecationWarning: This method will be removed in future versions.  Use 'tree.iter()' or 'list(tree.iter())' instead.\n",
      "  for elem in self.tree.iter() if Element_has_iter else self.tree.getiterator():\n"
     ]
    }
   ],
   "source": [
    "res = sp500_const.run(ticker=ticker+[\"SPY\"])"
   ]
  },
  {
   "cell_type": "code",
   "execution_count": 96,
   "metadata": {
    "tags": []
   },
   "outputs": [
    {
     "name": "stderr",
     "output_type": "stream",
     "text": [
      "/home/renatomz/anaconda3/lib/python3.7/site-packages/cvxpy/expressions/expression.py:516: UserWarning: \n",
      "This use of ``*`` has resulted in matrix multiplication.\n",
      "Using ``*`` for matrix multiplication has been deprecated since CVXPY 1.1.\n",
      "    Use ``*`` for matrix-scalar and vector-scalar multiplication.\n",
      "    Use ``@`` for matrix-matrix and matrix-vector multiplication.\n",
      "    Use ``multiply`` for elementwise multiplication.\n",
      "\n",
      "  warnings.warn(__STAR_MATMUL_WARNING__, UserWarning)\n"
     ]
    },
    {
     "data": {
      "text/plain": [
       "{'SPY': 0.6,\n",
       " 'WMT': 0.05,\n",
       " 'NVDA': 0.186097268701167,\n",
       " 'RL': 0.113902731298833,\n",
       " 'GPS': 0.05}"
      ]
     },
     "execution_count": 96,
     "metadata": {},
     "output_type": "execute_result"
    }
   ],
   "source": [
    "res.max_sharpe(risk_free_rate=0.0)"
   ]
  },
  {
   "cell_type": "code",
   "execution_count": 97,
   "metadata": {
    "scrolled": true
   },
   "outputs": [
    {
     "data": {
      "text/plain": [
       "(0.14243799883634214, 0.2453808701895622, 0.4989712471952522)"
      ]
     },
     "execution_count": 97,
     "metadata": {},
     "output_type": "execute_result"
    }
   ],
   "source": [
    "res.portfolio_performance()"
   ]
  },
  {
   "cell_type": "code",
   "execution_count": 98,
   "metadata": {},
   "outputs": [],
   "source": [
    "sp_opt_weights = max_shp_weights_lo.with_input(sp500_const)"
   ]
  },
  {
   "cell_type": "code",
   "execution_count": 99,
   "metadata": {},
   "outputs": [],
   "source": [
    "sp_opt_port = opt_port\\\n",
    "    .with_input(\"weights_in\", sp_opt_weights)\\\n",
    "    .set_input(\"data_in\", annual_rets)"
   ]
  },
  {
   "cell_type": "code",
   "execution_count": 100,
   "metadata": {
    "tags": []
   },
   "outputs": [
    {
     "name": "stderr",
     "output_type": "stream",
     "text": [
      "/home/renatomz/anaconda3/lib/python3.7/site-packages/cvxpy/expressions/expression.py:516: UserWarning: \n",
      "This use of ``*`` has resulted in matrix multiplication.\n",
      "Using ``*`` for matrix multiplication has been deprecated since CVXPY 1.1.\n",
      "    Use ``*`` for matrix-scalar and vector-scalar multiplication.\n",
      "    Use ``@`` for matrix-matrix and matrix-vector multiplication.\n",
      "    Use ``multiply`` for elementwise multiplication.\n",
      "\n",
      "  warnings.warn(__STAR_MATMUL_WARNING__, UserWarning)\n",
      "/home/renatomz/anaconda3/lib/python3.7/site-packages/xlrd/xlsx.py:266: PendingDeprecationWarning: This method will be removed in future versions.  Use 'tree.iter()' or 'list(tree.iter())' instead.\n",
      "  for elem in self.tree.iter() if Element_has_iter else self.tree.getiterator():\n",
      "/home/renatomz/anaconda3/lib/python3.7/site-packages/xlrd/xlsx.py:312: PendingDeprecationWarning: This method will be removed in future versions.  Use 'tree.iter()' or 'list(tree.iter())' instead.\n",
      "  for elem in self.tree.iter() if Element_has_iter else self.tree.getiterator():\n"
     ]
    },
    {
     "data": {
      "text/html": [
       "<div>\n",
       "<style scoped>\n",
       "    .dataframe tbody tr th:only-of-type {\n",
       "        vertical-align: middle;\n",
       "    }\n",
       "\n",
       "    .dataframe tbody tr th {\n",
       "        vertical-align: top;\n",
       "    }\n",
       "\n",
       "    .dataframe thead tr th {\n",
       "        text-align: left;\n",
       "    }\n",
       "\n",
       "    .dataframe thead tr:last-of-type th {\n",
       "        text-align: right;\n",
       "    }\n",
       "</style>\n",
       "<table border=\"1\" class=\"dataframe\">\n",
       "  <thead>\n",
       "    <tr>\n",
       "      <th>attribute</th>\n",
       "      <th>price</th>\n",
       "    </tr>\n",
       "    <tr>\n",
       "      <th>ticker</th>\n",
       "      <th>portfolio</th>\n",
       "    </tr>\n",
       "    <tr>\n",
       "      <th>date</th>\n",
       "      <th></th>\n",
       "    </tr>\n",
       "  </thead>\n",
       "  <tbody>\n",
       "    <tr>\n",
       "      <th>1999-12-31</th>\n",
       "      <td>0.000000</td>\n",
       "    </tr>\n",
       "    <tr>\n",
       "      <th>2000-12-31</th>\n",
       "      <td>0.014077</td>\n",
       "    </tr>\n",
       "    <tr>\n",
       "      <th>2001-12-31</th>\n",
       "      <td>0.499793</td>\n",
       "    </tr>\n",
       "    <tr>\n",
       "      <th>2002-12-31</th>\n",
       "      <td>-0.316009</td>\n",
       "    </tr>\n",
       "    <tr>\n",
       "      <th>2003-12-31</th>\n",
       "      <td>0.411432</td>\n",
       "    </tr>\n",
       "    <tr>\n",
       "      <th>2004-12-31</th>\n",
       "      <td>0.106706</td>\n",
       "    </tr>\n",
       "    <tr>\n",
       "      <th>2005-12-31</th>\n",
       "      <td>0.142958</td>\n",
       "    </tr>\n",
       "    <tr>\n",
       "      <th>2006-12-31</th>\n",
       "      <td>0.320669</td>\n",
       "    </tr>\n",
       "    <tr>\n",
       "      <th>2007-12-31</th>\n",
       "      <td>0.074425</td>\n",
       "    </tr>\n",
       "    <tr>\n",
       "      <th>2008-12-31</th>\n",
       "      <td>-0.412629</td>\n",
       "    </tr>\n",
       "    <tr>\n",
       "      <th>2009-12-31</th>\n",
       "      <td>0.500520</td>\n",
       "    </tr>\n",
       "    <tr>\n",
       "      <th>2010-12-31</th>\n",
       "      <td>0.089420</td>\n",
       "    </tr>\n",
       "    <tr>\n",
       "      <th>2011-12-31</th>\n",
       "      <td>0.006558</td>\n",
       "    </tr>\n",
       "    <tr>\n",
       "      <th>2012-12-31</th>\n",
       "      <td>0.109470</td>\n",
       "    </tr>\n",
       "    <tr>\n",
       "      <th>2013-12-31</th>\n",
       "      <td>0.275546</td>\n",
       "    </tr>\n",
       "    <tr>\n",
       "      <th>2014-12-31</th>\n",
       "      <td>0.129146</td>\n",
       "    </tr>\n",
       "    <tr>\n",
       "      <th>2015-12-31</th>\n",
       "      <td>0.035162</td>\n",
       "    </tr>\n",
       "    <tr>\n",
       "      <th>2016-12-31</th>\n",
       "      <td>0.453974</td>\n",
       "    </tr>\n",
       "    <tr>\n",
       "      <th>2017-12-31</th>\n",
       "      <td>0.331970</td>\n",
       "    </tr>\n",
       "    <tr>\n",
       "      <th>2018-12-31</th>\n",
       "      <td>-0.110401</td>\n",
       "    </tr>\n",
       "    <tr>\n",
       "      <th>2019-12-31</th>\n",
       "      <td>0.328433</td>\n",
       "    </tr>\n",
       "  </tbody>\n",
       "</table>\n",
       "</div>"
      ],
      "text/plain": [
       "attribute      price\n",
       "ticker     portfolio\n",
       "date                \n",
       "1999-12-31  0.000000\n",
       "2000-12-31  0.014077\n",
       "2001-12-31  0.499793\n",
       "2002-12-31 -0.316009\n",
       "2003-12-31  0.411432\n",
       "2004-12-31  0.106706\n",
       "2005-12-31  0.142958\n",
       "2006-12-31  0.320669\n",
       "2007-12-31  0.074425\n",
       "2008-12-31 -0.412629\n",
       "2009-12-31  0.500520\n",
       "2010-12-31  0.089420\n",
       "2011-12-31  0.006558\n",
       "2012-12-31  0.109470\n",
       "2013-12-31  0.275546\n",
       "2014-12-31  0.129146\n",
       "2015-12-31  0.035162\n",
       "2016-12-31  0.453974\n",
       "2017-12-31  0.331970\n",
       "2018-12-31 -0.110401\n",
       "2019-12-31  0.328433"
      ]
     },
     "execution_count": 100,
     "metadata": {},
     "output_type": "execute_result"
    }
   ],
   "source": [
    "sp_opt_port.run(ticker=ticker+[\"SPY\"])"
   ]
  },
  {
   "cell_type": "code",
   "execution_count": 101,
   "metadata": {
    "tags": []
   },
   "outputs": [
    {
     "name": "stderr",
     "output_type": "stream",
     "text": [
      "/home/renatomz/anaconda3/lib/python3.7/site-packages/xlrd/xlsx.py:266: PendingDeprecationWarning: This method will be removed in future versions.  Use 'tree.iter()' or 'list(tree.iter())' instead.\n",
      "  for elem in self.tree.iter() if Element_has_iter else self.tree.getiterator():\n",
      "/home/renatomz/anaconda3/lib/python3.7/site-packages/xlrd/xlsx.py:312: PendingDeprecationWarning: This method will be removed in future versions.  Use 'tree.iter()' or 'list(tree.iter())' instead.\n",
      "  for elem in self.tree.iter() if Element_has_iter else self.tree.getiterator():\n"
     ]
    },
    {
     "data": {
      "text/html": [
       "<div>\n",
       "<style scoped>\n",
       "    .dataframe tbody tr th:only-of-type {\n",
       "        vertical-align: middle;\n",
       "    }\n",
       "\n",
       "    .dataframe tbody tr th {\n",
       "        vertical-align: top;\n",
       "    }\n",
       "\n",
       "    .dataframe thead tr th {\n",
       "        text-align: left;\n",
       "    }\n",
       "\n",
       "    .dataframe thead tr:last-of-type th {\n",
       "        text-align: right;\n",
       "    }\n",
       "</style>\n",
       "<table border=\"1\" class=\"dataframe\">\n",
       "  <thead>\n",
       "    <tr>\n",
       "      <th>attribute</th>\n",
       "      <th>price</th>\n",
       "    </tr>\n",
       "    <tr>\n",
       "      <th>ticker</th>\n",
       "      <th>SPY</th>\n",
       "    </tr>\n",
       "    <tr>\n",
       "      <th>date</th>\n",
       "      <th></th>\n",
       "    </tr>\n",
       "  </thead>\n",
       "  <tbody>\n",
       "    <tr>\n",
       "      <th>1999-12-31</th>\n",
       "      <td>0.000000</td>\n",
       "    </tr>\n",
       "    <tr>\n",
       "      <th>2000-01-03</th>\n",
       "      <td>-0.009549</td>\n",
       "    </tr>\n",
       "    <tr>\n",
       "      <th>2000-01-04</th>\n",
       "      <td>-0.038345</td>\n",
       "    </tr>\n",
       "    <tr>\n",
       "      <th>2000-01-05</th>\n",
       "      <td>0.001922</td>\n",
       "    </tr>\n",
       "    <tr>\n",
       "      <th>2000-01-06</th>\n",
       "      <td>0.000956</td>\n",
       "    </tr>\n",
       "    <tr>\n",
       "      <th>...</th>\n",
       "      <td>...</td>\n",
       "    </tr>\n",
       "    <tr>\n",
       "      <th>2019-12-24</th>\n",
       "      <td>-0.000195</td>\n",
       "    </tr>\n",
       "    <tr>\n",
       "      <th>2019-12-26</th>\n",
       "      <td>0.005128</td>\n",
       "    </tr>\n",
       "    <tr>\n",
       "      <th>2019-12-27</th>\n",
       "      <td>0.000034</td>\n",
       "    </tr>\n",
       "    <tr>\n",
       "      <th>2019-12-30</th>\n",
       "      <td>-0.005781</td>\n",
       "    </tr>\n",
       "    <tr>\n",
       "      <th>2019-12-31</th>\n",
       "      <td>0.002946</td>\n",
       "    </tr>\n",
       "  </tbody>\n",
       "</table>\n",
       "<p>5032 rows × 1 columns</p>\n",
       "</div>"
      ],
      "text/plain": [
       "attribute      price\n",
       "ticker           SPY\n",
       "date                \n",
       "1999-12-31  0.000000\n",
       "2000-01-03 -0.009549\n",
       "2000-01-04 -0.038345\n",
       "2000-01-05  0.001922\n",
       "2000-01-06  0.000956\n",
       "...              ...\n",
       "2019-12-24 -0.000195\n",
       "2019-12-26  0.005128\n",
       "2019-12-27  0.000034\n",
       "2019-12-30 -0.005781\n",
       "2019-12-31  0.002946\n",
       "\n",
       "[5032 rows x 1 columns]"
      ]
     },
     "execution_count": 101,
     "metadata": {},
     "output_type": "execute_result"
    }
   ],
   "source": [
    "simple_rets.run(ticker=\"SPY\")"
   ]
  }
 ],
 "metadata": {
  "kernelspec": {
   "display_name": "Python 3",
   "language": "python",
   "name": "python3"
  },
  "language_info": {
   "codemirror_mode": {
    "name": "ipython",
    "version": 3
   },
   "file_extension": ".py",
   "mimetype": "text/x-python",
   "name": "python",
   "nbconvert_exporter": "python",
   "pygments_lexer": "ipython3",
   "version": "3.7.6"
  }
 },
 "nbformat": 4,
 "nbformat_minor": 4
}
