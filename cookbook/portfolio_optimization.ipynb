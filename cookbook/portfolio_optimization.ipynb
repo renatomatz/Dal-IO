{
 "cells": [
  {
   "cell_type": "markdown",
   "metadata": {},
   "source": [
    "# Cookbook Example 0: Portfolio Optimization\n",
    "\n",
    "In this cookbook example we will:\n",
    "\n",
    "1. Import data\n",
    "2. Perform basic wrangling\n",
    "3. Build a portfolio optimization model\n",
    "4. Plot our optimal portfolio\n",
    "5. Get the optimal weights\n",
    "\n",
    "Here, we go through the basics of this basic workflow and explain the main Dal-io objects (Translator, Pipe, Model and Application) through this context.\n",
    "\n",
    "This is exactly the same workflow as shown in the documentation index, though here we focuss more on the actual process than introducing concepts."
   ]
  },
  {
   "cell_type": "markdown",
   "metadata": {},
   "source": [
    "**If you have a local copy of the repository, we should append the main directory to the PYTHONPATH**"
   ]
  },
  {
   "cell_type": "code",
   "execution_count": null,
   "metadata": {},
   "outputs": [],
   "source": [
    "import sys\n",
    "sys.path.append(\"..\")\n",
    "\n",
    "import warnings\n",
    "warnings.filterwarnings(\"ignore\")\n",
    "warnings.simplefilter(\"ignore\")"
   ]
  },
  {
   "cell_type": "markdown",
   "metadata": {},
   "source": [
    "Now we'll import numpy and the base Dal-io submodules."
   ]
  },
  {
   "cell_type": "code",
   "execution_count": null,
   "metadata": {},
   "outputs": [],
   "source": [
    "import numpy as np\n",
    "\n",
    "import dalio.external as de\n",
    "import dalio.translator as dt\n",
    "import dalio.pipe as dp\n",
    "import dalio.model as dm\n",
    "import dalio.application as da"
   ]
  },
  {
   "cell_type": "markdown",
   "metadata": {},
   "source": [
    "Here we define the set of ticker symbols we will be using throughout the analysis and set up the main stock input.\n",
    "\n",
    "Here we picked competitor pairs from different industries to make the weights neater, though you can specify any ticker symbol available from your source (in this case Yahoo! Finance). Go ahead and try it!\n",
    "\n",
    "`External`s are often only instanciated once, as they are essentially useless on their own. Here we instanciate one just as the input to the `Translator`."
   ]
  },
  {
   "cell_type": "code",
   "execution_count": null,
   "metadata": {},
   "outputs": [],
   "source": [
    "tickers=[\"GOOG\", \"MSFT\", \"ATVI\", \"TTWO\", \"GM\", \"FORD\", \"SPY\"]\n",
    "\n",
    "stocks = dt.YahooStockTranslator()\\\n",
    "    .set_input(de.YahooDR())"
   ]
  },
  {
   "cell_type": "markdown",
   "metadata": {},
   "source": [
    "Now we run the translator to ensure the data is all present (missing stock symbols will cause problems later on) and well-formatted."
   ]
  },
  {
   "cell_type": "code",
   "execution_count": null,
   "metadata": {},
   "outputs": [],
   "source": [
    "stocks.run(ticker=tickers)"
   ]
  },
  {
   "cell_type": "markdown",
   "metadata": {},
   "source": [
    "Here we go through several examples of `Pipe` subclasses. Each one has one input, and can be chaned into a `PipeLine`, as is the case with `close`. We can also instanciate the objects to be solely used within the `PipeLine`, though you will not have access to them later on. For that reason, we instanciate `time_conf` outside of the `PipeLine` and then place it in ther; this will allow us to control the date selection from any point of the analysis. Thing of this piece as a sort of _remote control_ for date selection.\n",
    "\n",
    "Notice that while a good ammount of work is done behind the scenes, you, as a designer, will still need to make several decisions so that the output is as you require. \n",
    "\n",
    "Let's see an example of this challenge with `annual_rets`. Here we calculate the annual returns by getting the difference in price between each year's last closing prices. We do this by first applying a period function to get said last price, followed by a percent change pipe. One could just as well use `lambda x: (x[0] - x[-1])/x[0]` inside of the `Period` pipe to calculate the different between the first and last prices of the year. Both of these are understandable, yet they have different computations and slightly different results."
   ]
  },
  {
   "cell_type": "code",
   "execution_count": null,
   "metadata": {},
   "outputs": [],
   "source": [
    "time_conf = dp.DateSelect()\n",
    "\n",
    "close = dp.PipeLine(\n",
    "    dp.ColSelect(columns=\"close\"),\n",
    "    time_conf\n",
    ")(stocks)\n",
    "\n",
    "annual_rets = close + \\\n",
    "    dp.Period(\"Y\", agg_func=lambda x: x[-1]) + \\\n",
    "    dp.Change(strategy=\"pct_change\")\n",
    "\n",
    "cov = dp.Custom(lambda df: df.cov(), strategy=\"pipe\")\\\n",
    "    .with_input(annual_rets)\n",
    "\n",
    "exp_rets = annual_rets + dp.Custom(np.mean)"
   ]
  },
  {
   "cell_type": "markdown",
   "metadata": {},
   "source": [
    "Now we are introduced to two `Model` subclasses and one `_Builder`. \n",
    "\n",
    "As you can see, the `Model` instances take in multible inputs, each with a dedicated name. You can learn more about what the inputs to each Model are and their requirements by checking their documentation. We can also notice these models can serve as any other input to other `_Tranformer` instance.\n",
    "\n",
    "`_Builder` instances, on top of the standard class inputs, have pieces that must be set. Each of these pieces have their own set of options and parameters, each of which often represent parameters to some underlying function or object initialization."
   ]
  },
  {
   "cell_type": "code",
   "execution_count": null,
   "metadata": {},
   "outputs": [],
   "source": [
    "ef = dm.MakeEfficientFrontier(weight_bounds=(-0.5, 1))\\\n",
    "    .set_input(\"sample_covariance\", cov)\\\n",
    "    .set_input(\"expected_returns\", exp_rets)\\\n",
    "\n",
    "weights = dp.OptimumWeights()(ef)\\\n",
    "    .set_piece(\"strategy\", \"max_sharpe\", risk_free_rate=0.0)\n",
    "\n",
    "opt_port = dm.OptimumPortfolio()\\\n",
    "    .set_input(\"weights_in\", weights)\\\n",
    "    .set_input(\"data_in\", close)"
   ]
  },
  {
   "cell_type": "markdown",
   "metadata": {},
   "source": [
    "The final stage of a graph is often an `Application` instance, as we can see below. These are actually subclasses of `Model` and thus have the same input structure, as well as a similarly-specified set of outputs. These outputs will be instances of `External`, which can output to external resources just as they get input from them. \n",
    "\n",
    "In this case, the `External` instance manages a plot figure, while the `Application` instance processes its input and guides the `External` instance on how to plot in."
   ]
  },
  {
   "cell_type": "code",
   "execution_count": null,
   "metadata": {
    "scrolled": true
   },
   "outputs": [],
   "source": [
    "graph = da.PandasXYGrapher(x=None, y=\"close\", legend=\"upper right\")\\\n",
    "    .set_input(\"data_in\", dp.Index(100)(opt_port))\\\n",
    "    .set_output(\"data_out\", de.PyPlotGraph(figsize=(16, 8)))"
   ]
  },
  {
   "cell_type": "markdown",
   "metadata": {},
   "source": [
    "This is the reason we left that `DateSelect` instance in the python environment when creating `close`. Now, and at any point of the analysis, we have access to it and can specify the time range on which the analysis will be conducted."
   ]
  },
  {
   "cell_type": "code",
   "execution_count": null,
   "metadata": {},
   "outputs": [],
   "source": [
    "time_conf.set_start(\"2016-01-01\")\n",
    "time_conf.set_end(\"2019-12-31\")"
   ]
  },
  {
   "cell_type": "markdown",
   "metadata": {},
   "source": [
    "Now we can finally run the graph, which will plot the indexed portfolio.\n",
    "\n",
    "We can also get any output from the models and pipes we have created, for example to get the optimum weights used in the plotted portfolio.\n",
    "\n",
    "Feel free to tweek any part of the analysis and re-run the application to layer the new input on top of the old.\n",
    "\n",
    "Some things to try are:\n",
    "\n",
    "* Change the date range to see how this portfolio would have been optimized differently for a different time period.\n",
    "\n",
    "* Use a different set of tickers (make sure they are available from the data input)\n",
    "\n",
    "* Use different data inputs for your analysis.\n",
    "\n",
    "* Set different objectives and weight constraints on the `MakeEfficientFrontier` model."
   ]
  },
  {
   "cell_type": "code",
   "execution_count": null,
   "metadata": {},
   "outputs": [],
   "source": [
    "graph.run(ticker=tickers)"
   ]
  },
  {
   "cell_type": "code",
   "execution_count": null,
   "metadata": {},
   "outputs": [],
   "source": [
    "weights.run(ticker=tickers)"
   ]
  }
 ],
 "metadata": {
  "kernelspec": {
   "display_name": "Python 3",
   "language": "python",
   "name": "python3"
  },
  "language_info": {
   "codemirror_mode": {
    "name": "ipython",
    "version": 3
   },
   "file_extension": ".py",
   "mimetype": "text/x-python",
   "name": "python",
   "nbconvert_exporter": "python",
   "pygments_lexer": "ipython3",
   "version": "3.7.6"
  }
 },
 "nbformat": 4,
 "nbformat_minor": 4
}
